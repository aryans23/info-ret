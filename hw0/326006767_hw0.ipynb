{
 "cells": [
  {
   "cell_type": "markdown",
   "metadata": {},
   "source": [
    "#### CSCE 670 :: Information Storage and Retrieval :: Texas A&M University :: Spring 2018\n",
    "\n",
    "\n",
    "# Homework 0: Let's get it started\n",
    "\n",
    "- **100 points [2% of your final grade]**\n",
    "- **Due Tuesday, January 23 by 11:59pm**\n",
    "\n",
    "*Goals of this homework:* The objective of this homework is to prepare your development environment, get familiar with iPython in a Jupyter notebook, and then do some beginning exercises.\n",
    "\n",
    "*Submission instructions:* You should post your notebook to ecampus (look for the homework 0 assignment there). Please name your submission **your-uin_hw0.ipynb**, so for example, my submission would be something like **555001234_hw0.ipynb**. Your notebook should be fully executed when you submit ... so run all the cells for us so we can see the output, then submit that. "
   ]
  },
  {
   "cell_type": "markdown",
   "metadata": {},
   "source": [
    "## iPython, Python, and our Expectations\n",
    "\n",
    "This homework, all subsequent homeworks, and your project will use iPython in a Jupyter notebook. iPython is just an interactive shell for programming in the Python language. A few years ago, the developers created a generic interactive shell called Jupyter that supports languages beyond just Python. This can be a bit confusing, and we'll add a bit to the confusion by referring to iPython and Jupyter interchangeably in this course.\n",
    "\n",
    "With respect to Python, we do not expect you to have any prior experience. We do, however, expect you to have proficiency in some programming language (so you've seen loops, conditionals, functions, etc.) and a willingness to experiment and learn on your own. Python is a fun language and you should be able to pick up the necessary portions as we move along; however, this may require you to spend some extra cycles consulting online documentation, referring to a Python book, or scouring over StackOverflow. \n",
    "\n",
    "A few basic Python pointers:\n",
    "* http://introtopython.org\n",
    "* http://ricardoduarte.github.io/python-for-developers/\n",
    "* http://mbakker7.github.io/exploratory_computing_with_python/ [particularly the basic Python language ones]\n",
    "\n",
    "We expect your code to be well-documented with appropriate comments. We prefer meaningful variable names and function names. We also expect your code to be compact and sensible -- no super-long lines, nor dense unintelligible lines of code.\n",
    "\n",
    "In general, Python code is often run from standalone Python modules or files; for this class, we will often run Python from here within the iPython notebook.\n",
    "\n",
    "Now that you're ready, let's take a look at this iPython notebook. You'll notice that it is composed of cells. Some cells have text (like this one), while others contain code and comments. This cell is written in **Markdown** a simple text-to-HTML language. You can find a cheat sheet for Markdown here: https://github.com/adam-p/markdown-here/wiki/Markdown-Cheatsheet. You can toggle a cell between Markdown and code with the toggle button up there on the menu bar.\n",
    "\n",
    "The cell below contains code and can be **executed** by hitting the **Play** button on the menu bar or by hitting **shift + enter**."
   ]
  },
  {
   "cell_type": "code",
   "execution_count": 76,
   "metadata": {},
   "outputs": [
    {
     "name": "stdout",
     "output_type": "stream",
     "text": [
      "Hello world!\n"
     ]
    }
   ],
   "source": [
    "# this is a comment\n",
    "# you can execute this cell by hitting shift+enter\n",
    "# the output will appear immediately below\n",
    "print 'Hello world!'"
   ]
  },
  {
   "cell_type": "markdown",
   "metadata": {},
   "source": [
    "Since iPython is just an interactive shell around Python, you can define functions. For example:"
   ]
  },
  {
   "cell_type": "code",
   "execution_count": 77,
   "metadata": {},
   "outputs": [
    {
     "data": {
      "text/plain": [
       "27"
      ]
     },
     "execution_count": 77,
     "metadata": {},
     "output_type": "execute_result"
    }
   ],
   "source": [
    "def cubed(x):\n",
    "    \"\"\" Return the cube of a  \n",
    "        value \"\"\"\n",
    "    return x ** 3\n",
    "\n",
    "cubed(3)"
   ]
  },
  {
   "cell_type": "markdown",
   "metadata": {},
   "source": [
    "You can even access the filesystem with commands like `ls` or `pwd`:"
   ]
  },
  {
   "cell_type": "code",
   "execution_count": 78,
   "metadata": {},
   "outputs": [
    {
     "name": "stdout",
     "output_type": "stream",
     "text": [
      "/Users/Apple/Downloads\n",
      "463-sample.zip\n",
      "9781787128576_Code.zip\n",
      "DocuSign2abd392e-135e-4d8d-88ca-40288431cb60.pdf\n",
      "IIR.pdf\n",
      "Inplace.zip\n",
      "OmniDiskSweeper-1.9.dmg\n",
      "Robert V. Remini A Short History of the United States.pdf\n",
      "SharmaAryan10252017TaxDocs.pdf\n",
      "[Michael_J._Berry,_Gordon_S._Linoff]_Data_Mining_T(BookFi).epub\n",
      "homework_0.ipynb\n",
      "mactex-20170524.pkg\n",
      "slides_10_3.pptx\n"
     ]
    }
   ],
   "source": [
    "!pwd\n",
    "!ls"
   ]
  },
  {
   "cell_type": "markdown",
   "metadata": {},
   "source": [
    "## Getting Started with Numpy and matplotlib\n",
    "\n",
    "In this part, we're going to get familiar with two important libraries -- Numpy and matplotlib.\n",
    "\n",
    "### Into to Numpy\n",
    "Since Python is an interpreted language, it might not seem like the best choice for data-intensive work. Luckily, almost all of our data workflow stack is built on top of Numpy, a Python library that adds support for large, multi-dimensional arrays and matrices, along with a large library of high-level mathematical functions to operate on these arrays."
   ]
  },
  {
   "cell_type": "code",
   "execution_count": 79,
   "metadata": {},
   "outputs": [
    {
     "name": "stdout",
     "output_type": "stream",
     "text": [
      "Make a 4 row x 2 column matrix of random numbers\n",
      "[[ 0.3043743   0.51504293]\n",
      " [ 0.3724664   0.89620653]\n",
      " [ 0.80631424  0.2300678 ]\n",
      " [ 0.85489281  0.81912967]]\n",
      "\n",
      "Add 10 to every element\n",
      "[[ 10.3043743   10.51504293]\n",
      " [ 10.3724664   10.89620653]\n",
      " [ 10.80631424  10.2300678 ]\n",
      " [ 10.85489281  10.81912967]]\n",
      "\n",
      "Get the element at row 3, column 1\n",
      "10.819129667\n",
      "\n",
      "Get the first row\n",
      "[ 10.3043743   10.51504293]\n",
      "\n",
      "Get the first two rows\n",
      "[[ 10.3043743   10.51504293]\n",
      " [ 10.3724664   10.89620653]]\n",
      "\n"
     ]
    }
   ],
   "source": [
    "import numpy as np\n",
    "\n",
    "print \"Make a 4 row x 2 column matrix of random numbers\"\n",
    "x = np.random.random((4, 2))\n",
    "print x\n",
    "print\n",
    "\n",
    "print \"Add 10 to every element\"\n",
    "x = x + 10\n",
    "print x\n",
    "print\n",
    "\n",
    "print \"Get the element at row 3, column 1\"\n",
    "print x[3, 1]\n",
    "print\n",
    "\n",
    "print \"Get the first row\"\n",
    "print x[0, :]\n",
    "print\n",
    "\n",
    "print \"Get the first two rows\"\n",
    "print x[:2]\n",
    "print "
   ]
  },
  {
   "cell_type": "markdown",
   "metadata": {},
   "source": [
    "Now, it's your turn. Find the maximum, minimum, and mean of the array. This does not require writing a loop. In the code cell below, type `x.m<TAB>`, to find built-in operations that may help you out."
   ]
  },
  {
   "cell_type": "code",
   "execution_count": 80,
   "metadata": {},
   "outputs": [
    {
     "name": "stdout",
     "output_type": "stream",
     "text": [
      "max = 10.8962065338\n",
      "min = 10.2300677975\n",
      "mean = 10.5998118354\n"
     ]
    }
   ],
   "source": [
    "# your code here\n",
    "print \"max =\",x.max()\n",
    "print \"min =\",x.min()\n",
    "print \"mean =\",x.mean()"
   ]
  },
  {
   "cell_type": "markdown",
   "metadata": {},
   "source": [
    "That wasy easy! Now, let's see if you can generate 500 numbers from a uniform distribution between 0 and 10,000, inclusive. That is each random number could be 0, 1, 2, ..., 10,000 with equal chance. What is the maximum, minimum, and mean of these 500 random numbers? *Hint: take a look at np.random* "
   ]
  },
  {
   "cell_type": "code",
   "execution_count": 81,
   "metadata": {},
   "outputs": [
    {
     "name": "stdout",
     "output_type": "stream",
     "text": [
      "[4983 8127 1001 3788 7221 3305 9672 2172 1409 2058 7928 5293 3418 7437 4122\n",
      " 7765 2661 2914 1179 7451 5169 2037 2232 3281 1098 2789 9396 6401 1911 4236\n",
      " 5170 1548 4853 6791 5225 1064 4458 5765 1602 7504 8620 9491 6653 5642 2833\n",
      " 2296 5000 8302 8082 2489 1967 3921 5443 6625 8499 1431 9861 4774 5855 8801\n",
      " 1228 6773 3443 5117 4526 1713 4459 5720 3326  363 8213 1981 8171 2927 5139\n",
      " 2123 3190 6899 9504 9457 5973  672 3747 2560 8338 7984 3205 7529 6950 7109\n",
      " 8114 9959 9890 5047 8413 9775 1802 5712 5213 9195 6700 2846 4295 4377 1608\n",
      " 6405 3639 8657 4834 2366  677 8293 5778 3705 2623 6913 2248 8518 3365 7462\n",
      " 3655 7550 1796 4117  502 3442 3426 3862 6551  961  613 7329 3695  875 5736\n",
      " 1497 2129 1973 7804 6976 4662 5925 1789 7204 6471 3344 7339 7473 4155 6775\n",
      " 1702 3067 6943 9226 9976 3452 4708 5989 8736 4430 1559 8953 8951 9976 1630\n",
      " 9341 3480 9941 9963 3213 6799 3458  189 5085 9818 1525 8560 4580 2654 2325\n",
      "    3 9687 8525 3163 9849 7772 4098 9360 5051 5447    0 5156 9645 1861 8882\n",
      " 5558 3971 7044 3950 3784 4266 5652 9171 5380 8617 1296 1123 6615 9957 6454\n",
      " 5616 5445  791 6126 4581 6897 8895 8300 8661 8900 4310 6480 4015 3368 2940\n",
      " 8023 4061  279 6378 3313 9848 4708 3161 9544 6049 8709 4963 8392 6004 8600\n",
      " 2514 9697 4515 4064 6910 4308 3025 6752 3242 8282 6611 6762 8542 7027 8545\n",
      " 4180 8100  315 1241  221 5222 3660 1985 3096 3000 8245 1626 6403 9669 8649\n",
      " 7513 8079  349  810 1930 2624 6719 6508 4944 9408 4969 7038 3204 4269  967\n",
      " 1926 3049 6147 4341  842 9139 8881 1084 3867 9850 2859 3288  449 5787  142\n",
      " 5243   16 3037 6446 3660 7138 8499 2008 4758 6427 4451 8374  904 3368 6163\n",
      " 9352 7488 7600 5145 6949 3650 7570 4596 2901 5136 5177  896 8855 4571 1703\n",
      " 3448 5824 9112 6792 9628 2803 2698 2909 5074 3693  259 8004  769 7700 4729\n",
      " 8836 2471 2893 3003 8310 2295 4581 2167 2556 3971 3526 6808 6503   66 6999\n",
      "  219 1340 9427 3558  900 3601 5073 4948 6437 7313 3490 7901 2551 1980 6536\n",
      " 9853 2005  268 8853 1647 2242 6244 8839 8043 7369 6406 4227 4164 4325 3801\n",
      "  768 1937 5935 6326 8693 2091  228 9594 8917 4416 8067 5402 9409 9494 3549\n",
      " 7789 6276 6489  810  978 6334 6047 5778 1469 2190 3630 6714 3304  341 8733\n",
      " 5933 8029 2688 9749 3911 8979 1101 5541 4713 7297 2104 7098  177 2693 7257\n",
      " 1302 2405 9700 4415  896 1714 4453 8366 6854 5870 4978 2521 7535  711 9507\n",
      " 9670 3789 1334 7943 1679 2538 8026 3111 8461 2246 8147 9438   76 1634 9677\n",
      " 1206 4438 4009  885 1457  625 4845 8906 7222 6028 9178  224 3264 9408 8000\n",
      " 2636 7401 7975 3111 1212 4585 2251 7436 5103 1637 6125 3867  231 6006 6292\n",
      " 3570 3213 5277 8952  963]\n"
     ]
    }
   ],
   "source": [
    "# your code here\n",
    "y = np.random.randint(0,10001,500)\n",
    "print y"
   ]
  },
  {
   "cell_type": "markdown",
   "metadata": {},
   "source": [
    "### Intro to matplotlib\n",
    "The most widespread Python plotting library is matplotlib. With it, you can create graphs, charts, basic maps, and other data visualizations. Later in the semester, we'll use `seaborn`, a library built on top of matplotlib that provides even more beautiful charts.\n",
    "\n",
    "Below, we provide some simple x and y coordinates that are then plotted. You should update the plot to include:\n",
    "* a label for the x-axis (call it 'X-axis')\n",
    "* a label for the y-axis (call it 'Y-axis')\n",
    "* a label for the x, y1 curve (call it 'Alice')\n",
    "* a label for the x, y2 curve (call it 'Bob')\n",
    "* a legend in the lower right corner"
   ]
  },
  {
   "cell_type": "code",
   "execution_count": 82,
   "metadata": {},
   "outputs": [
    {
     "data": {
      "text/plain": [
       "<matplotlib.legend.Legend at 0x1a17bc8c50>"
      ]
     },
     "execution_count": 82,
     "metadata": {},
     "output_type": "execute_result"
    },
    {
     "data": {
      "image/png": "[encoded data removed]",
      "text/plain": [
       "<matplotlib.figure.Figure at 0x10d139910>"
      ]
     },
     "metadata": {},
     "output_type": "display_data"
    }
   ],
   "source": [
    "# this line prepares IPython for working with matplotlib\n",
    "%matplotlib inline  \n",
    "\n",
    "import matplotlib.pyplot as plt  \n",
    "\n",
    "x = [0, 1, 2, 3, 4]  \n",
    "y1 = [10, 12, 10, 10, 12]\n",
    "y2 = [8, 9, 9, 11, 12]\n",
    "plt.xlabel('X-axis')\n",
    "plt.ylabel('Y-axis')\n",
    "plt.plot(x, y1, label = 'Alice')\n",
    "plt.plot(x, y2, label = 'Bob')\n",
    "plt.legend(loc=4)\n",
    "# your code here (plus you may need to modify the previous two lines)"
   ]
  },
  {
   "cell_type": "markdown",
   "metadata": {},
   "source": [
    "## Python Data Structures\n",
    "Here we introduce some of the popular built-in data structures in Python: list, set and dictionary.\n",
    "#### List"
   ]
  },
  {
   "cell_type": "code",
   "execution_count": 83,
   "metadata": {},
   "outputs": [
    {
     "name": "stdout",
     "output_type": "stream",
     "text": [
      "Add item 7 to the list\n",
      "[1, 5, 6, 3, 4, 0, 7]\n",
      "\n",
      "Remove item 4 from the list\n",
      "[1, 5, 6, 3, 0, 7]\n",
      "\n",
      "Insert item 3 at a position 2\n",
      "[1, 5, 3, 6, 3, 0, 7]\n",
      "\n"
     ]
    }
   ],
   "source": [
    "x=[1, 5, 6, 3, 4, 0]\n",
    "print 'Add item 7 to the list'\n",
    "x.append(7)\n",
    "print x\n",
    "print\n",
    "\n",
    "print 'Remove item 4 from the list'\n",
    "x.remove(4)\n",
    "print x\n",
    "print \n",
    "\n",
    "print 'Insert item 3 at a position 2'\n",
    "x.insert(2,3)\n",
    "print x\n",
    "print"
   ]
  },
  {
   "cell_type": "markdown",
   "metadata": {},
   "source": [
    "Now, it's your turn. Sort the list and then reverse the list. In the code cell below, type x.<TAB>, to find built-in operations that may help you out."
   ]
  },
  {
   "cell_type": "code",
   "execution_count": 84,
   "metadata": {},
   "outputs": [
    {
     "name": "stdout",
     "output_type": "stream",
     "text": [
      "x sorted:  [0, 1, 3, 3, 5, 6, 7]\n",
      "x reversed:  [7, 6, 5, 3, 3, 1, 0]\n"
     ]
    }
   ],
   "source": [
    "#your code here\n",
    "x.sort()\n",
    "print 'x sorted: ',x\n",
    "x.reverse()\n",
    "print 'x reversed: ',x"
   ]
  },
  {
   "cell_type": "markdown",
   "metadata": {},
   "source": [
    "#### Set \n",
    "A set is an unordered collection with no duplicate elements."
   ]
  },
  {
   "cell_type": "code",
   "execution_count": 85,
   "metadata": {},
   "outputs": [
    {
     "name": "stdout",
     "output_type": "stream",
     "text": [
      "set(['a', 1, 2, 'c'])\n",
      "set(['c', 4, 5, 'd'])\n",
      "\n",
      "Check if item a is in set s1\n",
      "True\n",
      "\n",
      "return union of s1 and s2\n",
      "set(['a', 1, 2, 4, 5, 'c', 'd'])\n",
      "\n",
      "return intersection of s1 and s2\n",
      "set(['c'])\n",
      "\n"
     ]
    }
   ],
   "source": [
    "s1=set([1,2,'a','c'])\n",
    "s2=set([4,5,'d','c'])\n",
    "print s1\n",
    "print s2\n",
    "print\n",
    "\n",
    "print 'Check if item a is in set s1'\n",
    "print 'a' in s1\n",
    "print\n",
    "\n",
    "print 'return union of s1 and s2'\n",
    "print s1.union(s2)\n",
    "print\n",
    "\n",
    "print 'return intersection of s1 and s2'\n",
    "print s1.intersection(s2)\n",
    "print"
   ]
  },
  {
   "cell_type": "markdown",
   "metadata": {},
   "source": [
    "Now it's your turn to try out .add(), .remove(), .issubset() and .issuperset() built-in operations and report the results. "
   ]
  },
  {
   "cell_type": "code",
   "execution_count": 86,
   "metadata": {},
   "outputs": [
    {
     "name": "stdout",
     "output_type": "stream",
     "text": [
      "Adding item add in set s1\n",
      "s1 =  set(['a', 1, 2, 'add', 'c'])\n",
      "\n",
      "removing item add from s1\n",
      "s1 =  set(['a', 1, 2, 'c'])\n",
      "\n",
      "Is [1,2] a subset of s1? True\n",
      "\n",
      "Is s1 a superset of [1,2]? True\n",
      "\n"
     ]
    }
   ],
   "source": [
    "#your code here\n",
    "print 'Adding item add in set s1'\n",
    "s1.add('add')\n",
    "print 's1 = ',s1\n",
    "print\n",
    "\n",
    "print 'removing item add from s1'\n",
    "s1.remove('add')\n",
    "print 's1 = ',s1\n",
    "print\n",
    "\n",
    "tmp = set([1,2])\n",
    "print 'Is [1,2] a subset of s1?',tmp.issubset(s1)\n",
    "print\n",
    "\n",
    "tmp = set([1,2])\n",
    "print 'Is s1 a superset of [1,2]?',s1.issuperset(tmp)\n",
    "print"
   ]
  },
  {
   "cell_type": "markdown",
   "metadata": {},
   "source": [
    "#### Dictionary\n",
    "Unlike sequential data structures, which are indexed by a range of numbers, dictionaries are indexed by keys, which can be any type like strings and numbers.\n"
   ]
  },
  {
   "cell_type": "code",
   "execution_count": 87,
   "metadata": {},
   "outputs": [
    {
     "name": "stdout",
     "output_type": "stream",
     "text": [
      "{'fruit': ['apple', 'orange'], 'animal': ['cat', 'dog']}\n",
      "\n",
      "add food with value of soup\n",
      "{'food': ['soup'], 'fruit': ['apple', 'orange'], 'animal': ['cat', 'dog']}\n",
      "\n",
      "add value of banana into fruit\n",
      "{'food': ['soup'], 'fruit': ['apple', 'orange', 'banana'], 'animal': ['cat', 'dog']}\n"
     ]
    }
   ],
   "source": [
    "dic = {'fruit': ['apple', 'orange'], 'animal': ['cat', 'dog']}\n",
    "print dic\n",
    "print\n",
    "\n",
    "print 'add food with value of soup'\n",
    "dic['food']=['soup']\n",
    "print dic\n",
    "print\n",
    "\n",
    "print 'add value of banana into fruit'\n",
    "dic['fruit'].append('banana')\n",
    "print dic\n"
   ]
  },
  {
   "cell_type": "markdown",
   "metadata": {},
   "source": [
    "Create a dictionary where the keys are integer numbers from 0 to 10 and the corresponding values are the square of the key value.  "
   ]
  },
  {
   "cell_type": "code",
   "execution_count": 88,
   "metadata": {},
   "outputs": [
    {
     "name": "stdout",
     "output_type": "stream",
     "text": [
      "{0: 0, 1: 1, 2: 4, 3: 9, 4: 16, 5: 25, 6: 36, 7: 49, 8: 64, 9: 81, 10: 100}\n"
     ]
    }
   ],
   "source": [
    "# your code here\n",
    "dic = {}\n",
    "for i in range(11):\n",
    "    dic[i] = i*i\n",
    "print dic"
   ]
  },
  {
   "cell_type": "markdown",
   "metadata": {},
   "source": [
    "## Getting started with File Input & Output\n",
    "\n",
    "Python can easily handle reading and writing files. As far as Python is concerned, a file is just a string (often very large!) stored on your local file system, that you can read or write, gradually or all together.\n",
    "\n",
    "### Writing Files\n",
    "\n",
    "*open()* returns a file object, and is most commonly used with two arguments: *open(filename, mode)*."
   ]
  },
  {
   "cell_type": "code",
   "execution_count": 89,
   "metadata": {
    "collapsed": true
   },
   "outputs": [],
   "source": [
    "outFile = open('sample.txt', 'w')\n",
    "outFile.write('The first line\\nThe second line\\nThe third line\\n')\n",
    "outFile.close()"
   ]
  },
  {
   "cell_type": "markdown",
   "metadata": {},
   "source": [
    "The first line creates a file object, which links Python to your computer’s file system. The first parameter in the file constructor gives the file name, *sample.txt*. The second parameter indicates how you use the file. The 'w' is short for **w**rite. If the file already existed, the old contents are destroyed.\n",
    "\n",
    "And 'a' opens the file for **a**ppending; any data written to the file is automatically added to the end. 'r+' opens the file for both reading and writing.\n",
    "\n",
    "The *close* line is essential for Python to make sure everything is really written, and to relinquish control of the file."
   ]
  },
  {
   "cell_type": "markdown",
   "metadata": {},
   "source": [
    "### Methods of File Objects\n",
    "\n",
    "To read a file’s contents, call *f.read(size)*, which reads some quantity of data and returns it as a string. *size* is an optional numeric argument. When *size* is omitted or negative, the entire contents of the file will be read and returned."
   ]
  },
  {
   "cell_type": "code",
   "execution_count": 90,
   "metadata": {},
   "outputs": [
    {
     "data": {
      "text/plain": [
       "'The first line\\nThe second line\\nThe third line\\n'"
      ]
     },
     "execution_count": 90,
     "metadata": {},
     "output_type": "execute_result"
    }
   ],
   "source": [
    "outFile = open('sample.txt', 'r')\n",
    "outFile.read()"
   ]
  },
  {
   "cell_type": "markdown",
   "metadata": {},
   "source": [
    "For reading lines from a file, you can loop over the file object. This is memory efficient, fast, and leads to simple code:"
   ]
  },
  {
   "cell_type": "code",
   "execution_count": 91,
   "metadata": {},
   "outputs": [
    {
     "name": "stdout",
     "output_type": "stream",
     "text": [
      "The first line\n",
      "The second line\n",
      "The third line\n"
     ]
    }
   ],
   "source": [
    "outFile = open('sample.txt', 'r')\n",
    "for line in outFile:\n",
    "    print line,"
   ]
  },
  {
   "cell_type": "markdown",
   "metadata": {},
   "source": [
    "It is good practice to use the *with* keyword when dealing with file objects. This has the advantage that the file is properly closed after its suite finishes, even if an exception is raised on the way. It is also much shorter than writing equivalent try-finally blocks:"
   ]
  },
  {
   "cell_type": "code",
   "execution_count": 92,
   "metadata": {},
   "outputs": [
    {
     "data": {
      "text/plain": [
       "'The first line\\nThe second line\\nThe third line\\n'"
      ]
     },
     "execution_count": 92,
     "metadata": {},
     "output_type": "execute_result"
    }
   ],
   "source": [
    "with open('sample.txt', 'r') as f:\n",
    "    outFile = f.read()\n",
    "outFile"
   ]
  },
  {
   "cell_type": "code",
   "execution_count": 93,
   "metadata": {},
   "outputs": [
    {
     "data": {
      "text/plain": [
       "True"
      ]
     },
     "execution_count": 93,
     "metadata": {},
     "output_type": "execute_result"
    }
   ],
   "source": [
    "f.closed"
   ]
  },
  {
   "cell_type": "code",
   "execution_count": 94,
   "metadata": {
    "collapsed": true
   },
   "outputs": [],
   "source": [
    "with open('sample.txt', 'a') as f:\n",
    "    f.write('The fourth line\\n')"
   ]
  },
  {
   "cell_type": "code",
   "execution_count": 95,
   "metadata": {},
   "outputs": [
    {
     "name": "stdout",
     "output_type": "stream",
     "text": [
      "['The first line\\n', 'The second line\\n', 'The third line\\n', 'The fourth line\\n']\n"
     ]
    }
   ],
   "source": [
    "with open('sample.txt', 'r') as f:\n",
    "    print f.readlines()  # readlines – reads the entire file and returns it as a list of strings"
   ]
  },
  {
   "cell_type": "markdown",
   "metadata": {},
   "source": [
    "### Open a Remote File via URL\n",
    "\n",
    "Python can easily access the content of a webpage via its URL, and print out locally line-by-line without saving a local copy of the file. "
   ]
  },
  {
   "cell_type": "code",
   "execution_count": 97,
   "metadata": {},
   "outputs": [
    {
     "name": "stdout",
     "output_type": "stream",
     "text": [
      "['<html><head> <TITLE>CSCE 670 :: Information Storage and Retrieval :: Spring 2018</TITLE> </head>\\n', '\\n', '<body bgcolor=white text=black link=blue vlink=blue alink=blue>\\n', '\\n', '\\n', '<h1> CSCE 670 :: Information Storage and Retrieval :: Spring 2018 </h1> \\n', '\\n', '<dt>Tues/Thurs 9:35-10:50am in ETB 2005</dt>\\n', '\\n', '<br/>\\n', '<dt> Instructor: <a href=\"http://faculty.cse.tamu.edu/caverlee/\">James Caverlee</a>,\\n', 'HRBB 403 <dt> Office Hours: TBA \\n', '<dt>\\n', 'Department of <a href=\"http://www.cse.tamu.edu\">Computer Science and\\n', 'Engineering</a> <dt> <a href=\"http://www.tamu.edu\">Texas A&amp;M\\n', 'University</a>\\n', '<dt><br/>\\n', '<dt> TA: Parisa Kaghazgaran, 408D\\n', '<dt> Office Hours: TBA\\n', '\\n', '<dt>\\n', '\\n', '<p><a href=\"schedule.html\">Course Schedule</a> :: <a href=\"project.html\">Project</a> \\n', '\\n', '<hr>\\n', '<H3><A NAME = \"summary\">Course Summary</a></H3> \\n', '<P>\\n', '\\n', \"<P> In this course, we'll study the theory, design, and implementation\\n\", 'of text-based and Web-based information retrieval systems, including algorithms and techniques at the core of modern search and recommender systems. By the end of\\n', 'the semester you will be able to: \\n', '\\n', '<ul>\\n', '<li>Define and explain the key concepts\\n', 'and models relevant to information storage and retrieval, including\\n', 'efficient text indexing, boolean, vector space and probabilistic\\n', 'retrieval models, relevance feedback, document clustering and text\\n', 'categorization, Web search, including crawling, indexing, and link-based\\n', 'algorithms like PageRank. \\n', '\\n', '<li>Design, implement, and evaluate the core\\n', 'algorithms underlying a fully functional web search system, including the\\n', 'indexing, retrieval, and ranking components, as well as advanced\\n', 'algorithms like document clustering and text categorization. \\n', '\\n', '<li>Identify the\\n', 'salient features and apply recent research results in web search and recommender systems, including topics such as collaborative filtering,\\n', 'adversarial information retrieval, matrix factorization, and social\\n', 'information management.\\n', '</ul>\\n', '\\n', '\\n', '\\n', '\\n', '<hr>\\n', '<H3><A NAME = \"comm\">Communication</a></H3> \\n', '<P> All course communication will be via <a href=\"https://piazza.com/tamu/spring2018/csce670/home\">Piazza</a>.  We will post often to Piazza, so you should plan to check it often (every day). \\n', '\\n', '<hr>\\n', '<H3><A NAME = \"prereq\">Prerequisites</a></H3> \\n', '<P> I expect all students to have had some previous exposure to basic probability, statistics, algorithms, and data structures. You should be able to design and develop large programs and learn new software libraries on your own. \\n', '\\n', '\\t\\n', '<hr>\\n', '<H3><A NAME = \"textbooks\">Textbooks</a></H3> \\n', '<P> The primary textbook is IIR: <i><a href=\"http://nlp.stanford.edu/IR-book/information-retrieval-book.html\">Introduction to Information Retrieval</a></i>, Christopher D. Manning, Prabhakar Raghavan, and Hinrich Schutze, Cambridge University Press. 2008. Available at <a href=\"http://www.cambridge.org/us/catalogue/catalogue.asp?isbn=9780521865715\">Cambridge University Press</a>, at <a href=\"http://www.amazon.com/Introduction-Information-Retrieval-Christopher-Manning/dp/0521865719\">Amazon</a>, and other fine booksellers.\\n', '\\n', '<p> We may also read some selections from:\\n', '<ul>\\n', '<li> MMD: <i><a href=\"http://www.mmds.org\">Mining of Massive Datasets</a></i>, Jure Leskovec, Anand Rajarman, and Jeff Ullman. \\n', '<li> DITP: <i><a href=\"http://lintool.github.io/MapReduceAlgorithms/ed1n.html\">Data-Intensive Text Processing with MapReduce</i></a>, by Lin and Dyer, 2010.\\n', '<li> NCM: <i><a href=\"http://www.cs.cornell.edu/home/kleinber/networks%2Dbook/\">Networks, Crowds, and Markets: Reasoning About a Highly Connected World</i></a>, David Easley and Jon Kleinberg, Cambridge University Press. 2010. \\n', '<li> As well as several papers and other resources provided on Piazza.\\n', '</ul>\\n', '\\n', '\\n', '<p> You may find some of these optional textbooks helpful, though none are required:\\n', '<ul>\\n', '<li> <i>Modern Information Retrieval</i>, by Baeza-Yates and Ribeiro-Neto.\\n', '<li> <i>Managing Gigabytes</i>, by Witten, Moffat, and Bell.\\n', '<li> <i>Foundations of Statistical Natural Language Processing</i>, by Manning and Schutze.\\n', '<li> <i>Search Engines: Information Retrieval in Practice</i>, by Croft, Metzler, and Strohman.\\n', '</ul>\\n', '\\n', '\\n', '<p><b>It is critically important that you study the relevant course readings before class so that we can make the most of our limited class time together.</b> I treat our class meetings as opportunities to highlight significant aspects of the material, to answer questions, to engage in discussions about particular topics, and so on. We cannot cover all of the material in class, so it is up to you to stay on top of the readings and the assignments.\\n', '\\n', '<hr>\\n', '<H3><A NAME = \"grading\">Grading</a></H3> \\n', '<p> The grading scale is A: 90-100, B: 80-89, C: 70-79, D: 60-69, F: 0-59. The course grading policy is as follows: \\n', '\\n', '<p>\\n', '<b>In-Class Quick Quizzes (10%)</b>. Keeping up with the readings and attendance in class are both important to your success in the course. Hence we will have 10 in-class quick quizzes (5 to 10 minutes each) spread across the semester. Of those 10 quizzes, we will count just 7, meaning that you can miss up to 3 with no negative repercussions. Note that we do not expect you to memorize the readings; we just expect that you have done them and given them a reasonable pass. \\n', '\\n', '<p>\\n', '<b>Discussion Posts (5%)</b>. We expect you to participate in online discussions at <a href=\"https://piazza.com/tamu/spring2018/csce670\">Piazza</a>. Over the course of the semester, you should <b>post at least two</b> times; these could be on topics related to the course, help with someone\\'s homework question, etc. Towards your participation grade, the final day to post to the discussion group is April 18. (Of course you are welcome to continue to post afterwards, but these posts will not count toward your participation grade.)\\n', '\\n', '<p>\\n', '<b>Exams (40%)</b>. We will have two in-class exams, each worth 20% of your overall grade. Both exams are closed book, however, you may bring <b>two</b> standard 8.5\" by 11\" pieces of paper with any notes you deem appropriate or significant (front and back). No calculators, iPads, iPhones, Android phones/tablets, or abacuses are allowed.</i>\\n', '\\n', '<p>\\n', '<b>Homework (20%)</b>. We will have several homework assignments. These will be a mix of programming assignments and problem sets. All programming assignments will be in Python; we make no expectations that you have been exposed to Python before, but we do expect you to come up to speed rapidly.\\n', '\\n', '<p>All homework assignments must be submitted by 11:59pm Central time on the due date. For the homework assignments, you may talk to any other class member or work in groups to discuss the problems <b>in a general way</b>. However, your actual detailed solution must be yours alone. If you do talk to other students, you must write on your assignment who it is that you discussed the problems with. Your submitted work must be written solely by you and not contain work directly copied from others.\\n', '\\n', '<p><i>Homework Collaboration Clarification</i>: To clarify, your homework is yours alone and you are expected to complete each homework independently. Your solution should be written by you without the direct aid or help of anyone else. However, we believe that \\tcollaboration and team work are important for facilitating learning, so we encourage you \\tto discuss problems and general problem approaches (but not actual solutions) with your \\tclassmates. If you do have a chat with another student about a homework problem, you \\tmust inform us by writing a note on your homework submission (e.g., Bob pointed me to \\tthe relevant section for problem 3). The basic rule is that no student should explicitly share a solution with another student (and thereby circumvent the basic learning process), but it is okay to share general approaches, directions, and so on. If you feel like you have an issue that needs clarification, feel free to contact either me or the TA.\\n', '\\n', '<p><i>Homework Plagiarism Policy</i>: We will use the <a href=\"http://theory.stanford.edu/~aiken/moss/\">Stanford Moss</a> system to check homework submissions for plagiarism. Students found to have engaged in plagiarism will be punished severely, typically earning an automatic F in the course and being reported to the Aggie Honor System.\\n', '\\n', '<p><i>Homework Late Days</i>: For the homework assignments, you have a total of <b>5 late days</b> that you can use during the semester. However, a single assignment can be submitted <b>up to 3 days late</b> only, so we can post solutions in a timely fashion. \\n', 'For the purposes of the class, a late day is an indivisible 24-hour unit. Once you exhaust your 5 late days, we will not accept any late submissions. \\n', '\\n', '\\n', '<p><b>Project (25%)</b>. For the project, you will work in teams of three or four on a problem of your choosing that is interesting, significant, and relevant to this course. \\n', '\\n', '<hr>\\n', '\\n', '<p><b>Regrade Policy</b>: If you feel that we have made an error in grading, you may resubmit the assignment for a regrade. You must include a brief written statement describing what portion has been graded in error. (Hey, if you are reading this, here\\'s a hint: we will have our first quick quiz on Thursday of the first week of class -- the answer to the first question is \"The Beatles\"). Note that we reserve the right to examine the entire assignment, so there is a chance we may find errors in your assignment that we missed before.\\n', '\\n', '<hr>\\n', '\\n', '<H3><A NAME = \"ada\">Americans with Disabilities Act (ADA) Policy\\n', 'Statement</a></H3> The Americans with Disabilities Act (ADA) is a federal anti-discrimination statute that provides comprehensive civil rights protection for persons with disabilities. Among other things, this legislation requires that all students with disabilities be guaranteed a learning environment that provides for reasonable accommodation of their disabilities. If you believe you have a disability requiring an accommodation, please contact Disability Services, currently located in the Disability Services building at the Student Services at White Creek complex on west campus or call 979-845-1637. For additional information, visit <a href=\"http://disability.tamu.edu\">http://disability.tamu.edu</a>.\\n', '\\n', '<H3><A NAME = \"honor\">Academic Integrity Statements</a></H3>\\n', '\\n', \"AGGIE HONOR CODE:  ''An Aggie does not lie, cheat, or steal or tolerate\\n\", \"those who do.'' Upon accepting admission to Texas A&M University, a\\n\", 'student immediately assumes a commitment to uphold the Honor Code, to\\n', 'accept responsibility for learning, and to follow the philosophy and\\n', 'rules of the Honor System. Students will be required to state their\\n', 'commitment on examinations, research papers, and other academic work.\\n', 'Ignorance of the rules does not exclude any member of the TAMU community\\n', 'from the requirements or the processes of the Honor System. For\\n', 'additional information please visit: <a\\n', 'href=\"http://aggiehonor.tamu.edu\">http://aggiehonor.tamu.edu</a>\\n', '\\n', '\\n', '<P> <BR> <BR>\\n']\n"
     ]
    }
   ],
   "source": [
    "import urllib2  # the lib that handles the url stuff\n",
    "\n",
    "url = \"http://courses.cse.tamu.edu/caverlee/csce670/\"\n",
    "\n",
    "# your code here: open the url. Hint: take a look at urllib2.urlopen\n",
    "f = urllib2.urlopen(url)\n",
    "\n",
    "# your code here: now print out each line\n",
    "# text = f.read()\n",
    "lines = f.readlines()\n",
    "print lines"
   ]
  },
  {
   "cell_type": "markdown",
   "metadata": {},
   "source": [
    "## Counting Word Frequency\n",
    "\n",
    "One of the most fundamental tasks in information retrieval is to count the frequency of each word in a document.\n",
    "\n",
    "In the following example, we start with a string and split it into a list. We then create an (initially empty) list called *wordfreq*, go through each word in the *wordlist*, and count the number of times that word appears in the whole list. We then add each word’s count to our wordfreq list. Using the *zip* operation, we are able to match the first word of the word list with the first number in the frequency list, the second word and second frequency, and so on. We end up with a list of word and frequency pairs. The *str* function converts any object to a string so that it can be printed."
   ]
  },
  {
   "cell_type": "code",
   "execution_count": 71,
   "metadata": {},
   "outputs": [
    {
     "name": "stdout",
     "output_type": "stream",
     "text": [
      "String\n",
      "it was the best of times it was the worst of times it was the age of wisdom it was the age of foolishness\n",
      "\n",
      "List\n",
      "['it', 'was', 'the', 'best', 'of', 'times', 'it', 'was', 'the', 'worst', 'of', 'times', 'it', 'was', 'the', 'age', 'of', 'wisdom', 'it', 'was', 'the', 'age', 'of', 'foolishness']\n",
      "\n",
      "Frequencies\n",
      "[4, 4, 4, 1, 4, 2, 4, 4, 4, 1, 4, 2, 4, 4, 4, 2, 4, 1, 4, 4, 4, 2, 4, 1]\n",
      "\n",
      "Pairs\n",
      "{'of': 4, 'age': 2, 'it': 4, 'foolishness': 1, 'times': 2, 'worst': 1, 'the': 4, 'wisdom': 1, 'was': 4, 'best': 1}\n"
     ]
    }
   ],
   "source": [
    "wordstring = 'it was the best of times it was the worst of times '\n",
    "wordstring += 'it was the age of wisdom it was the age of foolishness'\n",
    "\n",
    "wordlist = wordstring.split()\n",
    "\n",
    "wordfreq = []\n",
    "for w in wordlist:\n",
    "    wordfreq.append(wordlist.count(w))\n",
    "\n",
    "print(\"String\\n\" + wordstring +\"\\n\")\n",
    "print(\"List\\n\" + str(wordlist) + \"\\n\")\n",
    "print(\"Frequencies\\n\" + str(wordfreq) + \"\\n\")\n",
    "print(\"Pairs\\n\" + str(dict(zip(wordlist, wordfreq))))"
   ]
  },
  {
   "cell_type": "markdown",
   "metadata": {},
   "source": [
    "Now, your job is to open up the url we mentioned a few cells above. Then output the word-frequency pairs in that url, sorted in order of descending frequency. In the case of ours Dickens example here, the output would look something like: [('of', 4), ('it', 4), ('the', 4), ('was', 4), ('age', 2), ('times', 2), ('foolishness', 1), ('worst', 1), ('wisdom', 1), ('best', 1)].\n",
    "\n",
    "Your job is to output a the word-frequency pairs for the url."
   ]
  },
  {
   "cell_type": "code",
   "execution_count": 117,
   "metadata": {},
   "outputs": [
    {
     "name": "stdout",
     "output_type": "stream",
     "text": [
      "Pairs\n",
      "{'limited': 1, 'all': 3, 'Clarification': 1, 'nlp': 1, 'results': 1, 'regrade': 1, 'four': 1, 'edu': 10, 'Department': 1, 'follow': 1, 'clarification': 1, 'uphold': 1, 'disability': 3, 'opportunities': 1, 'environment': 1, 'to': 46, 'does': 2, 'include': 1, 'worth': 1, 'resources': 1, 'P': 6, 'every': 1, 'timely': 1, 'severely': 1, 'Statements': 1, 'notes': 1, 'posts': 1, 'solution': 3, 'large': 1, 'Course': 2, 'vector': 1, 'team': 1, 'quick': 2, 'booksellers': 1, 'facilitating': 1, 'core': 2, 'phones': 1, 'requirements': 1, 'direct': 1, 'design': 2, 'pass': 1, 'HONOR': 1, 'Define': 1, 'blue': 3, 'what': 1, 'errors': 1, 'fine': 1, 'Collaboration': 1, 'brief': 1, 'find': 2, 'Amazon': 1, 'new': 1, 'body': 1, 'complex': 1, 'alink': 1, 'concepts': 1, 'here': 1, 'Creek': 1, 'reported': 1, 'protection': 1, 'groups': 1, 'others': 1, 'alone': 2, '100': 1, 'search': 4, 'engage': 1, 'indivisible': 1, 'west': 1, 'Communication': 1, 'study': 2, 'Moffat': 1, '35': 1, 'Anand': 1, 'social': 1, 'calculators': 1, 'implement': 1, 'honor': 1, 'Parisa': 1, 'examinations': 1, 'via': 1, 'requiring': 1, 'semester': 4, 'boolean': 1, 'apply': 1, 'total': 1, 'circumvent': 1, 'Bob': 1, 'unit': 1, 'use': 2, 'attendance': 1, 'from': 3, '0': 1, 'Quizzes': 1, 'visit': 2, 'negative': 1, 'resubmit': 1, 'call': 1, 'https': 2, 'Foundations': 1, 'F': 2, 'Leskovec': 1, 'MapReduceAlgorithms': 1, '845': 1, 'Summary': 1, 'particular': 1, 'Dyer': 1, '90': 1, 'must': 6, 'me': 2, 'none': 1, 'plagiarism': 2, 'hour': 1, 'rights': 1, 'this': 4, 'Text': 1, 'work': 6, 'abacuses': 1, 'can': 5, 'learn': 1, 'MMD': 1, 'Your': 2, 'do': 5, 'process': 1, 'programming': 2, 'Lin': 1, 'share': 2, 'purposes': 1, 'accept': 2, 'pieces': 1, 'allowed': 1, 'Policy': 3, 'exclude': 1, 'information': 7, 'needs': 1, 'end': 1, 'memorize': 1, 'IIR': 1, 'cse': 2, 'discussion': 1, 'write': 1, 'located': 1, 'Prabhakar': 1, 'responsibility': 1, 'answer': 2, 'Code': 1, 'A': 10, 'Plagiarism': 1, 'okay': 1, 'may': 6, 'philosophy': 1, 'space': 1, 'iPhones': 1, 'Bell': 1, 'faculty': 1, 'cambridge': 1, 'such': 1, 'data': 1, 'iPads': 1, 'steal': 1, 'a': 62, 'All': 3, 'github': 1, 'aggiehonor': 2, 'inform': 1, 'so': 8, 'NCM': 1, 'crawling': 1, 'retrieval': 6, 'talk': 2, 'Rajarman': 1, 'feedback': 1, 'pointed': 1, 'course': 10, 'PageRank': 1, 'including': 5, 'White': 1, 'Texas': 2, 'before': 3, '24': 1, '25': 1, 'group': 1, 'Schedule': 1, 'interesting': 1, 'll': 1, 'No': 1, 'expectations': 1, 'li': 11, 'late': 5, 'grade': 3, 'continue': 1, '403': 1, '2018': 2, 'Android': 1, 'Jure': 1, 'World': 1, '2010': 2, 'them': 2, 'someone': 1, 'thereby': 1, 'entire': 1, 'repercussions': 1, 'material': 2, 'indexing': 3, 'commitment': 2, 'not': 7, 'day': 3, 'Intensive': 1, 'several': 2, 'fully': 1, 'reasonable': 2, 'each': 3, 'found': 1, 'Croft': 1, 'related': 1, '89': 1, 'expect': 5, 'our': 3, '80': 1, 'teams': 1, 'Crowds': 1, 'vlink': 1, 'matrix': 1, 'p': 15, 'Practice': 1, 'research': 2, 'encourage': 1, 'Connected': 1, '7': 1, 'comprehensive': 1, 'issue': 1, 'Class': 1, 'Jon': 1, 'asp': 1, 'theory': 2, 'written': 3, 'Prerequisites': 1, 'University': 5, 'contain': 1, 'free': 1, 'standard': 1, 'clarify': 1, 'approaches': 2, 'categorization': 2, 'org': 2, 'accommodation': 2, 'Cambridge': 3, 'g': 1, 'selections': 1, 'rule': 1, 'could': 1, 'but': 4, 'days': 3, 'times': 1, 'TBA': 2, 'first': 3, 'isbn': 1, 'features': 1, 'probability': 1, 'Managing': 1, 'legislation': 1, 'primary': 1, '50am': 1, 'Disability': 2, 'Hence': 1, 'CODE': 1, 'done': 1, '979': 1, 'directly': 1, 'miss': 1, 'given': 1, 'salient': 1, 'top': 1, 'system': 2, 'least': 1, 'caverlee': 1, 'anyone': 1, 'their': 2, 'statement': 1, 'Press': 3, 'white': 1, 'structures': 1, 'final': 1, 'Search': 1, 'B': 1, 'Language': 1, 'that': 18, 'Kleinberg': 1, 'date': 1, 'believe': 2, '11': 2, '10': 5, 'b': 24, 'critically': 1, 'Data': 1, 'Kaghazgaran': 1, 'submitted': 3, 'project': 2, 'mmds': 1, 'toward': 1, 'solely': 1, 'TAMU': 1, 'and': 50, 'Information': 6, 'fashion': 1, 'topics': 3, 'modern': 1, 'Thurs': 1, 'Late': 1, 'have': 13, 'any': 4, 'lie': 1, 'recommender': 2, 'efficient': 1, 'able': 2, 'note': 1, 'also': 1, 'contact': 2, 'online': 1, 'Aggie': 2, 'algorithms': 5, 'Available': 1, 'though': 1, 'collaboration': 1, 'sets': 1, 'M': 2, 'Tues': 1, 'most': 1, 'plan': 1, 'significant': 3, '70': 1, 'accepting': 1, 'The': 6, 'probabilistic': 1, 'class': 10, '79': 1, 'statute': 1, 'cover': 1, 'missed': 1, 'typically': 1, 'section': 1, 'reserve': 1, 'Web': 2, 'cheat': 1, 'text': 5, 'meetings': 1, 'bring': 1, 'solutions': 2, 'participate': 1, 'Hinrich': 1, 'networks': 1, 'help': 2, 'Hours': 2, 'We': 7, 'based': 3, 'implementation': 1, 'explain': 1, '3': 3, 'should': 5, 'only': 1, 'explicitly': 1, 'black': 1, 'Services': 3, '8': 1, 'ranking': 1, 'Piazza': 4, 'quizzes': 2, 'overall': 1, 'Days': 1, 'amazon': 1, 'cannot': 1, 'Quick': 1, 'during': 1, 'dt': 10, 'dp': 1, 'Once': 1, 'Neto': 1, 'processes': 1, 'reading': 1, 'textbooks': 2, 'Schutze': 2, 'Over': 1, 'stanford': 2, 'Ullman': 1, 'factorization': 1, 'summary': 1, 'underlying': 1, '18': 1, 'tablets': 1, 'automatic': 1, 'Networks': 1, 'Statement': 1, 'For': 6, 'Grading': 1, 'BR': 2, 'Storage': 2, 'C': 1, 'are': 8, 'discussions': 2, 'Central': 1, 'ed1n': 1, 'Homework': 4, 'techniques': 1, 'csce670': 2, 'federal': 1, 'speed': 1, 'currently': 1, 'please': 2, 'libraries': 1, 'catalogue': 2, 'closed': 1, '9780521865715': 1, 'Instructor': 1, 'across': 1, 'we': 17, 'Natural': 1, 'Yates': 1, 'however': 1, 'rapidly': 1, 'comm': 1, 'key': 1, '20': 2, 'optional': 1, 'Retrieval': 6, 'both': 1, 'hint': 1, 'MapReduce': 1, 'Gigabytes': 1, 's': 2, 'Computer': 1, 'Design': 1, 'Statistical': 1, 'com': 3, 'Reasoning': 1, 'filtering': 1, 'afterwards': 1, 'Engines': 1, 'TITLE': 2, 'guaranteed': 1, 'Discussion': 1, 'Strohman': 1, 'Hey': 1, 'community': 1, 'ETB': 1, 'directions': 1, 'anti': 1, 'learning': 4, 'cs': 1, '69': 1, 'writing': 1, 'Keeping': 1, 'earning': 1, 'Students': 2, 'come': 1, 'Processing': 2, 'due': 1, 'been': 2, 'Honor': 4, 'bgcolor': 1, 'spread': 1, 'punished': 1, 'treat': 1, 'Moss': 1, 'basic': 3, 'expected': 1, 'copied': 1, 'systems': 3, 'Of': 2, 'Among': 1, 'Textbooks': 1, 'prereq': 1, 'Posts': 1, 'readings': 4, 'policy': 1, 'Thursday': 1, 'an': 5, 'those': 2, 'Metzler': 1, 'NAME': 7, 'these': 3, 'tolerate': 1, 'single': 1, 'will': 16, 'quiz': 1, 'error': 2, 'aid': 1, 'Upon': 1, 'is': 15, 'engaged': 1, 'it': 4, 'Caverlee': 1, 'io': 1, 'in': 21, 'Beatles': 1, 'You': 3, 'examine': 1, 'if': 1, 'Towards': 1, 'develop': 1, 'etc': 1, 'Python': 2, 'things': 1, 'make': 2, 'submission': 1, 'who': 2, 'campus': 1, 'member': 2, 'rules': 2, 'another': 2, 'html': 5, 'evaluate': 1, '9': 1, 'document': 2, 'exams': 2, 'week': 1, 'exhaust': 1, 'About': 1, 'http': 14, 'DITP': 1, 'I': 2, 'assignment': 5, 'IR': 1, 'persons': 1, 'student': 4, 'recent': 1, 'piazza': 2, 'CSCE': 2, 'programs': 1, 'i': 23, 'Spring': 2, 'well': 2, 'It': 1, 'Regrade': 1, 'academic': 1, 'without': 1, '408D': 1, 'components': 1, 'In': 2, 'the': 55, 'yours': 2, 'If': 5, 'graded': 1, 'just': 2, 'Manning': 3, 'being': 1, 'Ignorance': 1, 'front': 1, 'relevant': 4, 'questions': 1, 'immediately': 1, 'Markets': 1, 'previous': 1, 'web': 2, 'mix': 1, 'cornell': 1, 'admission': 1, 'had': 1, 'discuss': 2, 'other': 6, 'Christopher': 2, 'ada': 1, 'relevance': 1, 'has': 1, 'submissions': 2, 'By': 1, 'homework': 10, 'Both': 1, 'aspects': 1, 'D': 2, 'read': 1, 'James': 1, 'Raghavan': 1, '670': 2, 'Project': 2, 'AGGIE': 1, 'HRBB': 1, 'amp': 1, 'advanced': 1, 'helpful': 1, '60': 1, '59': 1, 'like': 3, 'success': 1, 'follows': 1, 'Highly': 1, 'href': 16, 'Identify': 1, 'either': 1, 'Baeza': 1, 'www': 6, 'right': 1, 'often': 2, 'exposed': 1, 'some': 3, 'back': 1, 'feel': 3, 'choosing': 1, 'home': 2, 'provided': 1, 'scale': 1, 'describing': 1, 'for': 7, 'grading': 4, 'classmates': 1, 'However': 3, '59pm': 1, '0521865719': 1, 'models': 2, 'Witten': 1, 'provides': 2, 'three': 1, 'participation': 2, 'be': 14, 'welcome': 1, 'schedule': 1, 'of': 27, 'David': 1, 'paper': 1, 'br': 2, 'post': 5, 'by': 10, 'on': 13, 'about': 2, 'actual': 2, 'H3': 14, 'disabilities': 3, 'discussed': 1, 'chance': 1, 'Americans': 2, 'discrimination': 1, 'Exams': 1, 'or': 10, 'software': 1, 'own': 1, 'moss': 1, 'assignments': 7, 'civil': 1, 'communication': 1, 'h1': 2, 'functional': 1, 'two': 3, 'spring2018': 2, 'appropriate': 1, 'Ribeiro': 1, 'your': 13, 'clustering': 2, 'statistics': 1, 'additional': 2, '1637': 1, 'there': 1, 'question': 2, 'adversarial': 1, 'way': 1, 'assumes': 1, 'tamu': 9, 'head': 2, 'complete': 1, 'hr': 7, 'Science': 1, 'Disabilities': 2, 'Note': 2, 'System': 3, 'lintool': 1, 'state': 1, 'link': 2, 'ADA': 2, 'with': 13, 'count': 2, 'made': 1, 'Office': 2, 'Jeff': 1, 'aiken': 1, 'up': 5, 'us': 2, '2Dbook': 1, 'ul': 6, 'Engineering': 1, 'highlight': 1, 'problem': 5, 'minutes': 1, 'detailed': 1, 'required': 2, 'Introduction': 2, 'textbook': 1, 'general': 3, 'To': 1, 'as': 6, 'deem': 1, 'at': 7, 'chat': 1, 'An': 1, 'check': 2, 'Mining': 1, 'no': 3, 'storage': 1, 'portion': 1, '40': 1, 'These': 1, 'book': 3, '5': 5, 'Student': 1, 'papers': 2, 'you': 35, 'TA': 2, 'Datasets': 1, 'collaborative': 1, 'Stanford': 1, 'students': 3, '2005': 1, 'problems': 3, 'stay': 1, 'April': 1, 'meaning': 1, 'important': 3, 'Massive': 1, 'kleinber': 1, 'Act': 2, 'else': 1, 'exposure': 1, 'building': 1, 'independently': 1, 'e': 1, 'Academic': 1, 'Integrity': 1, 'Modern': 1, 'together': 1, 'Easley': 1, 'As': 1, 'time': 2, 'management': 1, '2008': 1, 'requires': 1}\n"
     ]
    }
   ],
   "source": [
    "# your code here\n",
    "import urllib2  # the lib that handles the url stuff\n",
    "\n",
    "url = \"http://courses.cse.tamu.edu/caverlee/csce670/\"\n",
    "\n",
    "# your code here: open the url. Hint: take a look at urllib2.urlopen\n",
    "f = urllib2.urlopen(url)\n",
    "\n",
    "# your code here: now print out each line\n",
    "text = f.read()\n",
    "# print text\n",
    "\n",
    "from nltk.tokenize import RegexpTokenizer\n",
    "tokenizer = RegexpTokenizer('\\w+')\n",
    "tokens = tokenizer.tokenize(text)\n",
    "# print(tokens)\n",
    "wordfreq = []\n",
    "for w in tokens:\n",
    "    wordfreq.append(tokens.count(w))\n",
    "\n",
    "# print(\"Frequencies\\n\" + str(wordfreq) + \"\\n\")\n",
    "print(\"Pairs\\n\" + str(dict(zip(tokens, wordfreq))))"
   ]
  },
  {
   "cell_type": "code",
   "execution_count": 118,
   "metadata": {},
   "outputs": [
    {
     "data": {
      "image/png": "[encoded data removed]",
      "text/plain": [
       "<matplotlib.figure.Figure at 0x1a17b77090>"
      ]
     },
     "metadata": {},
     "output_type": "display_data"
    }
   ],
   "source": [
    "import nltk\n",
    "#Import datavis libraries\n",
    "import matplotlib.pyplot as plt\n",
    "import seaborn as sns\n",
    "\n",
    "# Figures inline and set visualization style\n",
    "%matplotlib inline\n",
    "sns.set()\n",
    "\n",
    "# Create freq dist and plot\n",
    "freqdist1 = nltk.FreqDist(tokens)\n",
    "freqdist1.plot(25)"
   ]
  },
  {
   "cell_type": "code",
   "execution_count": null,
   "metadata": {
    "collapsed": true
   },
   "outputs": [],
   "source": []
  }
 ],
 "metadata": {
  "anaconda-cloud": {},
  "kernelspec": {
   "display_name": "Python 2",
   "language": "python",
   "name": "python2"
  },
  "language_info": {
   "codemirror_mode": {
    "name": "ipython",
    "version": 2
   },
   "file_extension": ".py",
   "mimetype": "text/x-python",
   "name": "python",
   "nbconvert_exporter": "python",
   "pygments_lexer": "ipython2",
   "version": "2.7.14"
  }
 },
 "nbformat": 4,
 "nbformat_minor": 1
}
