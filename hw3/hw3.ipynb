{
 "cells": [
  {
   "cell_type": "markdown",
   "metadata": {},
   "source": [
    "#### CSCE 670 :: Information Storage and Retrieval :: Texas A&M University :: Spring 2018\n",
    "\n",
    "\n",
    "# Homework 3:  Embeddings + Recommenders\n",
    "\n",
    "### 100 points [5% of your final grade]\n",
    "\n",
    "### Due: Monday, April 9 by 11:59pm\n",
    "\n",
    "*Goals of this homework:* There are two main learning objectives: (i) implement and evaluate a pre-cursor to modern word2vec embeddings; and (ii) implement, evaluate, and improve upon traditional collaborative filtering recommenders.\n",
    "\n",
    "*Submission Instructions:* To submit your homework, rename this notebook as UIN_hw#.ipynb. For example, this homework submission would be: YourUIN_hw3.ipynb. Submit this notebook via ecampus. Your notebook should be completely self-contained, with the results visible in the notebook. \n",
    "\n",
    "*Late submission policy:* For this homework, you may use up to three of your late days, meaning that no submissions will be accepted after Thursday, April 12 at 11:59pm."
   ]
  },
  {
   "cell_type": "markdown",
   "metadata": {},
   "source": [
    "# Part 1: Word Embeddings (50 points)\n",
    "For this first part, we're going to implement a word embedding approach that is a bit simpler than word2vec. The key idea is to look at co-occurrences between center words and context words (somewhat like in word2vec) but without any pesky learning of model parameters.\n",
    "\n",
    "If you're interested in a deeper treatment of comparing count vs. learned embeddings, take a look at: [Don’t count, predict! A systematic comparison of\n",
    "context-counting vs. context-predicting semantic vectors](\n",
    "http://www.aclweb.org/anthology/P14-1023)"
   ]
  },
  {
   "cell_type": "markdown",
   "metadata": {},
   "source": [
    "## Load the Brown Corpus\n",
    "\n",
    "The dataset for this part is the (in)famous [Brown corpus](https://en.wikipedia.org/wiki/Brown_Corpus) that is a collection of text samples from a wide range of sources, with over one million unique words. Good for us, you can find the Brown corpus in nltk. *Make sure you have already installed nltk with something like: conda install nltk*"
   ]
  },
  {
   "cell_type": "code",
   "execution_count": 1,
   "metadata": {},
   "outputs": [
    {
     "name": "stdout",
     "output_type": "stream",
     "text": [
      "[nltk_data] Downloading package brown to /Users/Apple/nltk_data...\n",
      "[nltk_data]   Package brown is already up-to-date!\n",
      "[nltk_data] Downloading package stopwords to /Users/Apple/nltk_data...\n",
      "[nltk_data]   Package stopwords is already up-to-date!\n"
     ]
    },
    {
     "data": {
      "text/plain": [
       "True"
      ]
     },
     "execution_count": 1,
     "metadata": {},
     "output_type": "execute_result"
    }
   ],
   "source": [
    "import nltk\n",
    "nltk.download('brown')\n",
    "nltk.download('stopwords')"
   ]
  },
  {
   "cell_type": "markdown",
   "metadata": {},
   "source": [
    "Once you have it locally, you can load the dataset into your notebook. You can access the words using brown.words():"
   ]
  },
  {
   "cell_type": "code",
   "execution_count": 2,
   "metadata": {},
   "outputs": [
    {
     "name": "stdout",
     "output_type": "stream",
     "text": [
      "[u'The', u'Fulton', u'County', u'Grand', u'Jury', ...]\n"
     ]
    }
   ],
   "source": [
    "from nltk.corpus import brown\n",
    "# sents = brown.sents()\n",
    "# sents = list(sents)\n",
    "# sents = [[\"jack marcus done jack marcus jack jack\"]]\n",
    "print(brown.words())\n",
    "bwords = list(brown.words())"
   ]
  },
  {
   "cell_type": "markdown",
   "metadata": {},
   "source": [
    "## 1.1 Dataset Pre-processing\n",
    "OK, now we need to do some basic pre-processing. For this part you should:\n",
    "\n",
    "* Remove stopwords and punctuation.\n",
    "* Make everything lowercase.\n",
    "\n",
    "Then, count how often each word occurs. We will define the 5,000 most  frequent words as your vocabulary (V). We will define the 1,000 most frequent words as our context (C). Include a print statement below to show the top-20 words after pre-processing."
   ]
  },
  {
   "cell_type": "code",
   "execution_count": 3,
   "metadata": {
    "collapsed": true
   },
   "outputs": [],
   "source": [
    "import string\n",
    "import nltk\n",
    "from nltk.corpus import stopwords\n",
    "\n",
    "words = []\n",
    "for w in bwords:\n",
    "    words.append(str(w).translate(None, string.punctuation).lower())\n",
    "words = [w for w in words if w not in stopwords.words('english') and len(w)>0]"
   ]
  },
  {
   "cell_type": "code",
   "execution_count": 5,
   "metadata": {},
   "outputs": [
    {
     "name": "stdout",
     "output_type": "stream",
     "text": [
      "[('one', 3297), ('would', 2714), ('said', 1961), ('new', 1635), ('could', 1601), ('time', 1598), ('two', 1412), ('may', 1402), ('first', 1361), ('like', 1292), ('man', 1207), ('even', 1170), ('made', 1125), ('also', 1069), ('many', 1030), ('must', 1013), ('years', 1001), ('af', 996), ('back', 966), ('well', 961)]\n"
     ]
    }
   ],
   "source": [
    "from collections import Counter\n",
    "bag = Counter()\n",
    "bag.update(words)\n",
    "V = [x[0] for x in bag.most_common(5000)]\n",
    "C = [x[0] for x in bag.most_common(1000)]\n",
    "print(bag.most_common(20))"
   ]
  },
  {
   "cell_type": "markdown",
   "metadata": {},
   "source": [
    "## 1.2 Building the Co-occurrence Matrix \n",
    "\n",
    "For each word in the vocabulary (w), we want to calculate how often context words from C appear in its surrounding window of size 4 (two words before and two words after).\n",
    "\n",
    "In other words, we need to define a co-occurrence matrix that has a dimension of |V|x|C| such that each cell (w,c) represents the number of times c occurs in a window around w. "
   ]
  },
  {
   "cell_type": "code",
   "execution_count": 6,
   "metadata": {},
   "outputs": [
    {
     "name": "stdout",
     "output_type": "stream",
     "text": [
      "[[ 82.  76.  52. ...,   2.   1.   0.]\n",
      " [ 76.  70.  68. ...,   2.   1.   0.]\n",
      " [ 52.  68.  34. ...,   4.   1.   0.]\n",
      " ..., \n",
      " [  0.   1.   0. ...,   0.   0.   0.]\n",
      " [  0.   0.   0. ...,   0.   0.   0.]\n",
      " [  0.   0.   0. ...,   0.   0.   0.]]\n"
     ]
    }
   ],
   "source": [
    "from nltk import ngrams\n",
    "import numpy as np\n",
    "\n",
    "vocab_to_index = {word:i for i, word in enumerate(V)}\n",
    "index_to_vocab = {i:word for i, word in enumerate(V)}\n",
    "context_to_index = {word:i for i, word in enumerate(C)}\n",
    "co_occurrence_matrix = np.zeros((len(V), len(C)))\n",
    "\n",
    "n = 5\n",
    "fivegrams = ngrams(words, n)\n",
    "for gram in fivegrams:\n",
    "    gram = list(gram)\n",
    "    central_word = gram[2]\n",
    "    if (central_word not in V):\n",
    "        continue;\n",
    "    for i in np.arange(5):\n",
    "        if (i == 2):\n",
    "            continue\n",
    "        if (gram[i] in C):\n",
    "            co_occurrence_matrix[vocab_to_index[central_word]][context_to_index[gram[i]]] += 1\n",
    "\n",
    "print(co_occurrence_matrix)"
   ]
  },
  {
   "cell_type": "markdown",
   "metadata": {},
   "source": [
    "## 1.3 Probability Distribution\n",
    "\n",
    "Using the co-occurrence matrix, we can compute the probability distribution Pr(c|w) of context word c around w as well as the overall probability distribution of each context word c with Pr(c).  "
   ]
  },
  {
   "cell_type": "code",
   "execution_count": 7,
   "metadata": {
    "collapsed": true
   },
   "outputs": [],
   "source": [
    "com = np.array(co_occurrence_matrix)\n",
    "pcw = com/com.sum(axis=1, keepdims=True)\n",
    "pcw[np.isnan(pcw)] = 0     # Making all NaNs to 0\n",
    "# print(pcw)"
   ]
  },
  {
   "cell_type": "code",
   "execution_count": 8,
   "metadata": {
    "collapsed": true
   },
   "outputs": [],
   "source": [
    "pw = [x[1] for x in bag.most_common(1000)]\n",
    "pw = [float(p)/len(words) for p in pw]\n",
    "# print pw"
   ]
  },
  {
   "cell_type": "markdown",
   "metadata": {},
   "source": [
    "## 1.4 Embedding Representation\n",
    "\n",
    "Now you can represent each vocabulary word as a |C| dimensional vector using this equation:\n",
    "\n",
    "Vector(w)= max(0, log (Pr(c|w)/Pr(c)))\n",
    "\n",
    "This is a traditional approach called *pointwise mutual information* that pre-dates word2vec by some time. "
   ]
  },
  {
   "cell_type": "code",
   "execution_count": 9,
   "metadata": {},
   "outputs": [
    {
     "name": "stdout",
     "output_type": "stream",
     "text": [
      "[[ 0.74703104  0.86563454  0.81111393 ...,  0.55951624  0.          0.        ]\n",
      " [ 0.87100003  0.98335134  1.27933281 ...,  0.75947114  0.06632396  0.        ]\n",
      " [ 0.84881633  1.31166972  0.94349155 ...,  1.80992424  0.42362987  0.        ]\n",
      " ..., \n",
      " [ 0.          1.65541311  0.         ...,  0.          0.          0.        ]\n",
      " [ 0.          0.          0.         ...,  0.          0.          0.        ]\n",
      " [ 0.          0.          0.         ...,  0.          0.          0.        ]]\n"
     ]
    },
    {
     "name": "stderr",
     "output_type": "stream",
     "text": [
      "/anaconda2/lib/python2.7/site-packages/ipykernel_launcher.py:1: RuntimeWarning: divide by zero encountered in log\n",
      "  \"\"\"Entry point for launching an IPython kernel.\n"
     ]
    }
   ],
   "source": [
    "embeddings = np.log(pcw/pw)\n",
    "b = embeddings < 0\n",
    "embeddings[b] = 0\n",
    "print(embeddings)"
   ]
  },
  {
   "cell_type": "markdown",
   "metadata": {},
   "source": [
    "## 1.5 Analysis\n",
    "\n",
    "So now we have some embeddings for each word. But are they meaningful? For this part, you should:\n",
    "\n",
    "- First, cluster the vocabulary into 100 clusters using k-means. Look over the words in each cluster, can you see any relation beween words? Discuss your observations.\n",
    "\n",
    "- Second, for the top-20 most frequent words, find the nearest neighbors using cosine distance (1- cosine similarity). Do the findings make sense? Discuss."
   ]
  },
  {
   "cell_type": "code",
   "execution_count": 10,
   "metadata": {},
   "outputs": [
    {
     "name": "stdout",
     "output_type": "stream",
     "text": [
      "[['rain'], ['civilization'], ['played', 'worth', 'develop', 'dress', 'discussed', 'leaves', 'ballet', 'qualities', 'shoes', 'dancing', 'remaining', 'whereas', 'sister', 'blame', 'naked', 'voting', 'dreams', 'magnificent', 'charm', 'woods', 'exhibit', 'torn', 'devil', 'charming', 'enthusiastic', 'promising', 'adults', 'chart', 'obliged', 'reverend', 'acceptable', 'blonde', 'detectives', 'tent', 'puzzled'], ['un', 'india', 'entitled', 'payment', 'co', 'assembly', 'eisenhower', 'request', 'constitution', 'limit', 'adams', 'representative', 'recommended', 'award', 'edward', 'farmers', 'proposal', 'vice', 'dean', 'treasury', 'approved', 'communists', 'provisions', 'code', 'reserve', 'authorized', 'navy', 'assistant', 'jackson', 'atlanta', '1962', 'revenue', 'thereby', '19', 'charter', 'presentation', 'concluded', 'loans', 'sen', 'medicine', 'fees', 'davis', 'sherman', 'regulations', 'jurisdiction', 'guilty', 'argued', 'contributions', 'commander', 'marshall', 'requirement', 'kennedys', 'nato', 'recommend', 'taxpayers', 'puerto', 'ford', 'assembled', 'gen', 'agriculture', 'insects', 'amendment', 'douglas', 'ambassador', 'governors', 'alaska', 'rico', 'taylor', '1950', 'grants', '1948', 'accordance'], ['property', 'industrial', 'sales', 'limited', 'firms', 'supplies', 'agricultural', 'financing', 'surplus'], ['hot', 'suggested', 'heat', 'dinner', 'fresh', 'coffee', 'murder', 'stayed', 'buy', 'remove', 'breakfast', 'cup', 'sake', 'kate', 'bread', 'transfer', 'meals'], ['new', 'may', 'first', 'made', 'also', 'many', 'must', 'world', 'great', 'since', 'used', 'use', 'american', 'however', 'small', 'part', 'general', 'upon', 'number', 'war', 'fact', 'less', 'government', 'system', 'set', 'point', 'city', 'business', 'president', 'social', 'given', 'present', 'order', 'national', 'second', 'possible', 'rather', 'among', 'form', 'important', 'case', 'large', 'need', 'become', 'within', 'church', 'power', 'development', 'interest', 'members', 'country', 'area', 'although', 'service', 'problem', 'certain', 'different', 'thus', 'sense', 'means', 'whole', 'law', 'human', 'example', 'action', 'company', 'today', 'history', 'act', 'taken', 'experience', 'field', 'shall', 'period', 'seems', 'free', 'cannot', 'political', 'question', 'making', 'whose', 'problems', 'study', 'became', 'economic', 'position', 'change', 'individual', 'areas', 'society', 'force', 'future', 'age', 'center', 'common', 'control', 'necessary', 'policy', 'following', 'students', 'land', 'party', 'nations', 'level', 'effect', 'military', 'class', 'usually', 'therefore', 'plan', 'various', 'type', 'value', 'modern', 'situation', 'process', 'personal', 'nature', 'third', 'private', 'greater', 'needed', 'expected', 'values', 'view', 'basis', 'space', 'required', 'complete', 'support', 'conditions', 'return', 'attention', 'forces', 'stage', 'beyond', 'instead', 'makes', 'single', 'added', 'including', 'developed', 'religious', 'beginning', 'terms', 'especially', 'higher', 'subject', 'meeting', 'natural', 'final', 'growth', 'needs', 'countries', 'entire', 'purpose', 'meet', 'food', 'particularly', 'knowledge', 'effort', 'christian', 'moral', 'statement', 'according', 'nation', 'physical', 'strength', 'population', 'merely', 'concerned', 'direction', 'generally', 'science', 'student', 'direct', 'clearly', 'freedom', 'movement', 'organization', 'persons', 'manner', 'larger', 'understanding', 'religion', 'plans', 'quality', 'pattern', 'lack', 'importance', 'continue', 'negro', 'current', 'obvious', 'moreover'], ['district', 'virginia', 'attorney', 'internal', 'laboratory', 'trustees', 'maryland', 'missouri'], ['county', 'stock', 'average', 'plant', 'farm', 'lower', 'immediately', 'charge', 'cars', 'main', 'length', 'income', 'growing', 'season', 'reach', 'date', 'built', 'supply', 'rise', 'popular', 'oil', 'sign', 'workers', 'annual', 'principal', 'base', 'cover', 'add', 'begin', 'slightly', 'produce', 'atmosphere', 'smaller', 'model', 'planned', 'items', 'responsible', 'shelter', 'aircraft', 'calls', 'completed', 'protection', 'families', 'leading', 'starting', 'headquarters', 'site', 'homes', 'rising', 'roads', 'portion', 'prices', 'plants', 'machinery', 'slow', 'advance', 'critical', 'neighborhood', 'goods', 'motor', 'divided', 'improved', 'machines', 'manufacturers', 'motors', 'largest', 'bills', 'eventually', 'gradually', 'extra', 'expense', 'strike', 'advertising', 'hopes', 'impressive', 'missile', 'considering', 'vacation', 'sold', 'bonds', 'shares', 'insurance', 'dollar', 'taxes', 'residential', 'expensive', 'lies', 'salary', 'transportation', 'marketing', 'customers', 'spending', 'todays', 'highway', 'improvement', 'estimate', 'maturity', 'tv', 'owners', 'reception', 'scheduled', 'foundation', 'consumer', 'supplied', 'substantially', 'schedule', 'dealers', 'retired', '1000', 'owned', 'receiving', 'net', 'branches', 'builders', 'reducing', 'markets', 'decline', 'fallout', 'buying', 'modest', 'entertainment', 'builder', 'utility', 'municipal', 'customer', 'supporting', 'bears', 'marginal', '400', 'prospects', 'contracts', 'sixties', 'crop', 'retail', 'exceed', 'earnings'], ['art', 'medical', 'administration', 'based', 'preparation', 'detailed', 'referred', 'concerns', 'communities', 'quantity', 'protected', 'dealt', 'relating'], ['mechanical'], ['officials', 'boats', 'assessment', 'assessors', 'movable'], ['black', 'dark', 'hair', 'blue', 'green', 'sea', 'fell', 'bright', 'gray', 'sharp', 'lips', 'stands', 'warm', 'thick', 'wore', 'stared', 'pale', 'sky', 'yellow', 'tiny', 'hills', 'pink', 'suit', 'plain', 'skin', 'lights', 'wearing', 'golden', 'crossed', 'ears', 'sudden', 'clouds', 'enormous', 'swept', 'jacket', 'falling', 'staring', 'beard', 'shining', 'shadows'], ['feed', 'cattle', 'weight', 'carefully', 'gain', 'animal', 'cutting', 'location', 'animals', 'metal', 'disease', 'milk', 'salt', '200', 'mounted', 'drugs', 'considerably', 'seeds', 'fed', 'seed', 'selection', '300', 'yield', '75', 'fewer', 'damage', 'beef', 'excessive', 'furnish', 'aids', '35', '70', 'pound', 'prevention', 'grain', 'cents', 'released', 'treat', 'drug', 'manufacturing', 'sheep', 'continuously', '80', 'milligrams', '45', 'conversion', 'grains', 'livestock', 'dairy', 'gains', 'caution', 'fever'], ['film', 'solid', 'fields', 'ancient', 'application', 'capable', 'pleasure', 'tension', 'enjoyed', 'wild', 'inner', 'soil', 'depth', 'loose', 'stream', 'resistance', 'safety', 'models', 'numerous', 'precision', 'target', 'changing', 'occur', 'core', 'parallel', 'drawing', 'pressures', 'illusion', 'deeper', 'kinds', 'devices', 'atom', 'strongly', 'installed', 'fruit', 'frequent', 'ocean', 'golf', 'roles', 'tools', 'substance', 'tragic', 'awareness', 'skywave', 'variation', 'plastic', 'strain', 'invariably', 'ruled', 'perfectly', 'altogether', 'unconscious', 'consciousness', 'jet', 'extending', 'cloud', 'losing', 'colony', 'submarine', 'handled', 'reaches', 'attracted', 'destructive', 'rigid', 'wholly', 'realism', 'factories', 'firing', 'targets', 'musician', 'substrate', 'craft', 'totally', 'sphere', 'ambiguous', 'arbitrary', 'thrust', 'certainty', 'amazing', 'emphasize', 'package', 'submarines', 'ladder', 'situated', 'depths'], ['youth', 'wages', 'inevitable', 'verbal'], ['back', 'came', 'house', 'around', 'went', 'left', 'head', 'night', 'end', 'eyes', 'next', 'toward', 'room', 'side', 'looked', 'along', 'saw', 'light', 'turned', 'open', 'door', 'across', 'car', 'behind', 'office', 'street', 'close', 'front', 'morning', 'outside', 'road', 'moved', 'inside', 'wall', 'walked', 'corner'], ['goes', 'touch', 'somehow', 'refused', 'drop', 'notice', 'lose', 'talked', 'leg', 'liked', 'wondered', 'surprised', 'worry', 'practically', 'listen', 'noticed', 'proud', 'hearst', 'pocket', 'angry', 'promised', 'adam', 'whenever', 'smooth', 'comment', 'anybody', 'reply', 'anne', 'sell', 'henrietta', 'pleased', 'missed', 'shouted', 'deeply', 'forgotten', 'swimming', 'roy', 'hurt', 'wash', 'stomach', 'innocent', 'wear', 'sad', 'johnson', 'mistake', 'dying', 'andy', 'scotty', 'courage', 'weak', 'softly', 'asleep', 'theyd', 'anxious', 'ramey', 'laugh', 'upstairs', 'cady', 'myra', 'prefer', 'slept', 'johnnie', 'trembling', 'souls', 'blanche', 'tilghman', 'lonely', 'lock', 'accurately', 'forgive', 'killing', 'maggie', 'hungry', 'fault', 'mess', 'maude', 'dare', 'kay', 'scared', 'glory', 'figured', 'freddy', 'grip', 'anyhow'], ['shed'], ['board', 'determined', '11', 'maintenance', 'december', 'representatives', 'equipped', '1952'], ['century', 'fall', 'earlier', 'continued', 'series', 'game', 'served', 'writing', 'letters', 'established', 'jazz', 'concern', 'americans', 'break', 'spoke', 'died', 'otherwise', 'musical', 'aware', 'studied', 'writers', 'leader', 'village', 'russia', 'proved', 'revolution', 'artists', 'laos', 'broken', 'stories', 'congo', 'informed', 'chinese', 'britain', 'protestant', 'testimony', 'remarkable', 'journal', 'decades', 'violent', 'defeat', 'ignored', 'prize', 'conferences', 'renaissance'], ['im', 'youre'], ['program', 'section', 'training', 'programs', 'services', 'facilities', 'funds', 'assistance', 'financial', 'vocational', 'adequate', 'inventory', 'rehabilitation'], ['spite'], ['equally', 'alfred', 'surprise', 'troubled', 'alex', 'penny', 'keith'], ['record'], ['reported'], ['calm', 'shock', 'constitute', 'nervous'], ['carrying', 'gross', 'possibly', 'feelings', 'unable', 'experienced', 'anger', 'difficulties', 'removal', 'thyroid', 'demonstrate', 'overcome', 'anticipated'], ['directly'], ['particular'], ['1', '2', '3', '4', '5', '6', '7'], ['rich', 'pointed', 'independence', 'ends', 'career', 'passing', 'rapidly', 'powerful', 'friendly', 'greek', 'weapons', 'vast', 'task', 'setting', 'roman', 'patients', 'becoming', 'demands', 'device', 'trained', 'rural', 'risk', 'version', 'japanese', 'developing', 'detective', 'widely', 'abroad', 'views', 'supreme', 'female', 'choose', 'millions', 'doctors', 'mantle', 'concrete', 'personality', 'destroy', 'maintained', 'attitudes', 'intelligence', 'congregation', 'cuba', 'everywhere', 'mere', 'conscious', 'liberty', 'trend', 'superior', 'atomic', 'weakness', 'doctrine', 'violence', 'dangerous', 'discovery', 'prime', 'slaves', 'impression', 'wisdom', 'helping', 'burden', 'extensive', 'technology', 'tend', 'republic', 'believes', 'warfare', 'external', 'mental', 'raw', 'increasingly', 'urban', 'reflected', 'muscle', 'engineer', 'worlds', 'unlike', 'threat', 'opposed', 'display', 'rarely', 'psychological', 'constantly', 'virtually', 'involves', 'shared', 'agents', 'guidance', 'islands', 'criticism', 'necessity', 'goals', 'personally', 'gained', 'holmes', 'mankind', 'attractive', 'acts', 'regardless', 'destruction', 'inevitably', 'primitive', 'accounts', 'survey', 'effectively', 'feature', 'species', 'serves', 'contribution', 'outlook', 'guide', 'camera', 'sciences', 'affected', 'moves', 'industries', 'extension', 'scientists', 'error', 'challenge', 'desirable', 'normally', 'sympathy', 'automatically', 'host', 'engineers', 'presently', 'preserve', 'nationalism', 'patent', 'prepare', 'consequences', 'crime', 'myth', 'shortly', 'folk', 'tends', 'logical', 'duties', 'canada', 'protect', 'hunting', 'genuine', 'abstract', 'realistic', 'demonstrated', 'survive', 'attempted', 'slavery', 'involving', 'healthy', 'artistic', 'precise', 'benefits', 'favorable', 'survival', 'testing', 'socalled', 'collective', 'lacking', 'initiative', 'inadequate', 'dancers', 'depending', 'debate', 'extend', 'extraordinary', 'articles', 'mature', 'conservative', 'enterprise', 'competitive', 'selling', 'outer', 'husbands', 'helps', 'associations', 'structures', 'involve', 'absolute', 'concentrated', 'sovereign', 'reform', 'expert', 'slave', 'representing', 'secure', 'comments', 'corporations', 'encountered', 'citizen', 'crucial', 'propaganda', 'controls', 'consequence', 'sacrifice', 'surprising', 'purely', 'false', 'examination', 'helpful', 'argue', 'tasks', 'merit', 'morality', 'exciting', 'perform', 'wars', 'solutions', 'southeast', 'prestige', 'creating', 'shapes', 'residence', 'encouraged', 'witness', 'sovereignty', 'enthusiasm', 'newly', 'roosevelt', 'arise', 'meetings', 'worthy', 'consistent', 'talents', 'maintaining', 'communications', 'discuss', 'critics', 'responses', 'textile', 'exclusive', 'expanding', 'observation', 'judgments', 'absolutely', 'insist', 'antitrust', 'theological', 'scope', 'suspicion', 'foundations', 'placing', 'traders', 'clinical', 'intelligent', 'exceptions', 'disaster', 'justify', 'promotion', 'identify', 'legend', 'register', 'sophisticated', 'aesthetic', 'premier', 'lawyers', 'eliminate', 'philosophical', 'peaceful', 'approaches', 'continually', 'applications', 'racial', 'bearing', 'dilemma', 'productive', 'coverage', 'contacts', 'constitutional', 'exploration', 'sba', 'responsibilities', 'demonstration', 'operational', 'civilian', 'entering', 'automobiles', 'declaration', 'access', 'qualified', 'interpreted', 'actor', 'diffusion', 'explicit', 'tended', 'norms', 'democracy', 'functional', 'biggest', 'rank', 'realization', 'prisoners', 'meaningful', 'undoubtedly', 'phases', 'insure', 'attempting', 'regime', 'posts', 'assumptions', 'colleagues', 'historians', 'justified', 'reflects', 'discrimination', 'controlling', 'variations', 'expectations', 'ultimately', 'antisemitism', 'enable', 'exercises', 'beliefs', 'governmental', 'sharing', 'novels', 'originally', 'overseas', 'physics', 'possessed', 'voluntary', 'middleclass', 'participate', 'suited', 'occasions', 'recommendations', 'intentions', 'wealth', 'chiefly', 'ownership', 'congressional', 'valid', 'obligations', 'economical', 'respects', 'empire', 'traditions', 'respectable', '800', 'thorough', 'replacement', 'observers', 'heritage', 'races', 'utopian', 'displayed', 'socialist', 'kings', 'educated', 'colonial', 'crises', 'urge', 'cope', 'katanga', 'urgent', 'speeches', 'motives', 'expanded', 'intervention', 'founded', 'invention', 'realtors', 'alliance', 'solely', 'mathematics', 'overwhelming', 'purchased', 'pupil', 'treaty', 'twentieth', 'guided', 'pursue', 'indication', 'strongest', 'negotiations', 'dominated', 'socialism', 'minority', 'solve', 'adjustments', 'attain', 'tactics', 'compromise', 'convictions', 'struggling', 'styles', 'distinctive', 'respective', 'railroads', 'preserved', 'postwar', 'ambition', 'mens', 'solved', 'theology', 'achievements', 'lesser', 'continental', 'devotion', 'infinite'], ['consider'], ['said', 'could', 'like', 'man', 'way', 'mr', 'little', 'see', 'long', 'get', 'never', 'know', 'old', 'come', 'go', 'right', 'take', 'place', 'home', 'thought', 'say', 'dont', 'got', 'away', 'something', 'put', 'think', 'hand', 'enough', 'took', 'told', 'nothing', 'didnt', 'look', 'going', 'asked', 'knew', 'let', 'face', 'big', 'felt', 'ever', 'thing', 'want', 'anything', 'really', 'tell', 'keep', 'sure', 'miss', 'heard', 'moment', 'boy', 'turn', 'wife', 'voice', 'wanted', 'woman', 'ill', 'girl', 'mother', 'feel', 'run', 'town', 'leave', 'hard', 'play', 'says', 'soon', 'gone', 'call', 'thats', 'kept', 'everything', 'father', 'else', 'couldnt', 'taking', 'coming', 'dead', 'looking', 'heart', 'cold', 'move', 'cant', 'tried', 'hold', 'friends', 'getting', 'trying', 'rest', 'picture', 'care', 'boys', 'bring', 'start', 'wasnt', 'girls', 'talk', 'hear', 'happened', 'stand', 'thinking', 'yes', 'ready', 'bad', 'decided', 'try', 'anyone', 'remember', 'trouble', 'friend', 'maybe', 'husband', 'chance', 'wrong', 'wouldnt', 'ask', 'beautiful', 'lot', 'ive', 'hes', 'hell', 'easy', 'oh', 'stop', 'saying', 'stay', 'wish', 'waiting', 'wont', 'pretty', 'id', 'write', 'bit', 'talking', 'meant', 'doctor', 'hadnt', 'happy', 'hed', 'isnt', 'someone', 'seeing', 'nobody'], ['evidence'], ['hours'], ['explanation'], ['special'], ['organized'], ['due'], ['court', 'provide', 'tax', 'respect', 'fiscal', 'percentage', 'allotment', 'returns', 'matching', 'enforcement'], ['mrs', 'brown', 'son', 'letter', 'club', 'george', 'de', 'thomas', 'charles', 'director', 'king', 'announced', 'mary', 'named', 'robert', 'henry', 'judge', 'jr', 'daughter', 'richard', 'frank', 'monday', 'chairman', 'uncle', 'joseph', 'martin', 'smith', 'remarks', 'david', 'senator', 'walter', 'lawrence', 'baker', 'clark', 'harry', 'lee', 'howard', 'albert', 'houston'], ['two', 'years', 'day', 'last', 'year', 'three', 'days', 'later', 'several', 'early', 'four', 'times', 'five', 'past', 'week', 'half', 'ago', 'six', 'minutes', 'months', 'late', 'hundred', 'ten', 'weeks', 'nearly', 'month', 'couple', 'seven', 'spent', 'eight', 'dollars', 'thousand', 'nine', 'twenty', 'fifty', 'thirty', 'fifteen', 'twelve', 'eleven', 'fourteen'], ['island', 'hospital', 'sunday', 'chicago', 'london', 'published', 'manager', 'opening', 'yesterday', 'editor', 'junior', 'fourth', 'failed', 'jewish', 'louis', 'rome', 'league', 'ordered', 'paris', 'saturday', 'closely', 'newspaper', 'arrived', 'courses', 'showing', 'victory', 'boston', 'friday', 'games', 'tuesday', 'professor', 'joined', 'republican', 'attend', 'massachusetts', 'introduced', 'theater', 'boards', 'arthur', 'los', 'automobile', 'angeles', 'issued', 'welcome', 'television', 'institute', 'royal', 'prior', 'opera', 'mail', 'offices', 'opposition', 'cast', 'orleans', 'collected', 'insisted', 'appointed', 'regional', 'musicians', 'presidents', 'queen', 'visited', 'colleges', 'francisco', 'continues', 'oclock', 'concert', 'legislature', 'newspapers', 'candidates', 'mayor', 'districts', 'fifth', 'harbor', 'profession', 'accompanied', 'signed', 'columns', 'paintings', 'attended', 'wednesday', 'performed', 'returning', 'grade', 'metropolitan', 'presidential', 'harvard', 'candidate', 'senior', 'weekend', 'advised', 'prince', 'clubs', 'symphony', 'admission', 'interview', 'elected', 'thursday', 'rejected', 'performances', 'connected', 'dc', 'gorton', 'mills', 'films', 'universities', 'gallery', 'movies', 'panel', 'kansas', 'sharpe', 'dartmouth', 'louisiana', 'graduate', 'sponsored', 'yankees', 'republicans', 'carleton', 'suburban', 'brooklyn', 'volunteers', 'convention', 'appointment', '1955', 'festival', 'jefferson', 'womens', 'delaware', 'voted', 'scholars', 'newport', 'controversy', 'concerts', 'invited', 'bridges', 'sessions', 'teams', 'nixon', 'jersey', 'pittsburgh', 'stadium', '29', 'cocktail', 'portland', 'advisory', 'announcement', 'summers', 'honored', 'workshop', 'ruling', 'broadway', 'preliminary', 'academy', 'memorial', 'madison', 'luncheon', 'champion', 'publications', 'civic', 'attending', 'westminster', 'childrens', 'baltimore', 'engagement', 'exhibition', 'capitol', 'miami', 'statistics', 'expects', 'vermont', 'submitted', 'associate', 'detroit', 'port', 'citys', 'belgians', 'launched', 'michigan', 'warwick', 'anniversary', 'manhattan', 'tournament', 'committees', 'voters', 'inc', 'legislators', 'chapel', 'fortunately', '1949', '1946', 'paula', 'calif', 'supervision', 'airport'], ['french', 'met', 'blood', 'learned', 'audience', 'names', 'older', 'dance', 'captain', 'impossible', 'team', 'mark', 'remembered', 'sam', 'secret', 'believed', 'quiet', 'memory', 'fit', 'dog', 'mercer', 'beauty', 'song', 'realized', 'realize', 'fashion', 'plays', 'quick', 'wonder', 'occurred', 'honor', 'relief', 'search', 'besides', 'jesus', 'mothers', 'join', 'dream', 'grew', 'fellow', 'duty', 'keeping', 'repeated', 'taste', 'lie', 'perfect', 'bear', 'double', 'vision', 'loved', 'moments', 'win', 'thoughts', 'handle', 'brothers', 'bitter', 'hero', 'easier', 'player', 'taught', 'worse', 'convinced', 'tragedy', 'surely', 'italian', 'seriously', 'wright', 'spirits', 'confused', 'neighbors', 'saved', 'pride', 'funny', 'grace', 'focus', 'magazine', 'soldier', 'turns', 'sharply', 'instant', 'thompson', 'attempts', 'worst', 'gift', 'alert', 'imagined', 'arlene', 'cavalry'], ['states', 'united', 'department', 'washington', 'peace', 'secretary', 'report', 'committee', 'central', 'received', 'foreign', 'international', 'congress', 'issue', 'labor', 'paid', 'bill', 'trade', 'throughout', 'kennedy', 'member', 'aid', 'led', 'provided', 'association', 'army', 'press', 'recently', 'opportunity', 'responsibility', 'account', 'activities', 'leaders', 'staff', 'corps', 'firm', 'democratic', 'serve', 'division', 'agreement', 'health', 'rhode', 'professional', 'original', 'council', 'commission', 'news', 'officers', 'prepared', 'relations', 'unless', 'institutions', 'claim', 'share', 'conference', 'churches', 'proper', 'project', 'authority', 'leadership', 'security', 'civil', 'measure', 'corporation', 'citizens', 'purposes', 'balance', 'carry', 'laws', 'scientific', 'build', 'capital', 'affairs', 'proposed', 'catholic', 'reports', 'operations', 'collection', 'prevent', 'offered', 'provides', 'campaign', 'file', 'recognized', 'session', 'offer', 'economy', 'term', 'election', 'rights', 'governments', 'receive', 'u', 'vote', 'official', 'faculty', 'claims', 'interior', 'membership', 'rule', 'legal', 'resources', 'assumed', 'educational', 'seek', 'directed', 'projects', 'employees', 'declared', 'forest', 'jobs', 'primarily', 'organizations', 'credit', 'benefit', 'domestic', 'library', 'fund', 'senate', 'agencies', 'concerning', 'european', 'acting', 'continuing', 'contract', 'armed', 'goal', 'existing', 'maintain', 'housing', 'providing', 'grounds', 'establish', 'railroad', 'courts', 'commerce', 'permitted', 'peoples', 'review', 'agency', 'conduct', 'conducted', 'cultural', 'executive', 'decisions', 'create', 'supported', 'welfare', 'administrative', 'advanced', 'establishment', 'cooperation', 'approval', 'opportunities', 'devoted', 'measures', 'operate', 'formal', 'grant', 'engaged', 'employment', 'expenses', 'provision', 'encourage', 'engineering', '1954', 'loan', 'legislation', 'adopted', 'includes', 'seeking', 'contribute', 'recreation', 'investment', 'bureau', 'departments', 'longrange', 'participation', 'institution', 'legislative', 'permanent', 'dependent', 'emergency', 'authorities', 'contributed', 'objectives', 'determination', 'joint', 'assure', 'skills', 'counties', 'longterm', 'promote', 'finance', 'proposals', 'cooperative', 'establishing', 'assist'], ['basic'], ['efforts'], ['policies'], ['method', 'regard', 'procedure', 'drama', 'historian', 'testament', 'petitioner', 'cited', 'warrant'], ['removed', 'wine', 'forth', 'sweet', 'pictures', 'jury', 'hanover', 'wind', 'songs', 'minister', 'struck', 'tree', 'fathers', 'appearance', 'bought', 'palmer', 'runs', 'fort', 'sounds', 'band', 'colors', 'flesh', 'indian', 'brilliant', 'mention', 'conversation', 'speaker', 'silent', 'ships', 'firmly', 'sports', 'holy', 'occasionally', 'screen', 'blind', 'ring', 'luck', 'lincoln', 'singing', 'fought', 'curious', 'nights', 'ice', 'calling', 'alexander', 'terrible', 'lovely', 'admitted', 'pilot', 'younger', 'driven', 'pace', 'guns', 'liquor', 'cloth', 'grown', 'switch', 'lots', 'demanded', 'ease', 'prison', 'wire', 'bag', 'steady', 'pike', 'carl', 'match', 'bob', 'thoroughly', 'studying', 'finger', 'self', 'comedy', 'finish', 'guest', 'furniture', 'williams', 'copy', 'indians', 'cotton', 'track', 'pleasant', 'japan', 'briefly', 'piano', 'temple', 'paul', 'handed', 'sons', 'thanks', 'distant', 'chose', 'paint', 'comfortable', 'noise', 'colonel', 'admit', 'ladies', 'male', 'occasional', 'players', 'chicken', 'jim', 'dirty', 'bomb', 'forty', 'visitors', 'peter', 'managed', 'spanish', 'maris', 'tough', 'yard', 'eggs', 'row', 'bombs', 'meanwhile', 'beer', 'sounded', 'disappeared', 'virgin', 'routine', 'fish', 'roll', 'quarter', 'sending', 'seldom', 'sing', 'bigger', 'reporters', 'openly', 'badly', 'smell', 'tears', 'tells', 'sentence', 'clerk', 'keys', 'lunch', 'succeeded', 'naval', 'owner', 'affair', 'rev', 'bone', 'unfortunately', 'funeral', 'branch', 'excitement', 'stars', 'partner', 'wedding', 'remarked', 'reflection', 'gesture', 'remote', 'shouting', 'chandler', 'van', 'fishing', 'spots', 'circles', 'covers', 'harold', 'dave', 'tossed', 'winning', 'bird', 'colored', 'lightly', 'remark', 'horn', 'checked', 'seventh', 'masters', 'maid', 'lane', 'root', 'woodruff', 'johnny', 'miriam', 'listened', 'strip', 'meal', 'gay', 'frontier', 'hoping', 'sang', 'belt', 'glasses', 'trips', 'lieutenant', 'silver', 'harris', 'cow', 'precious', 'theatre', 'ann', 'hughes', 'tea', 'mighty', 'morse', 'mickey', 'ear', 'delight', 'movie', 'signals', 'poured', 'divorce', 'reminded', 'hal', 'cure', 'sergeant', 'journey', 'happening', 'sand', 'santa', 'gentleman', 'quarters', 'dawn', 'hated', 'wound', 'dining', 'tight', 'freight', 'gathering', 'dried', 'pot', 'shade', 'powder', 'laughing', 'rushed', 'outdoor', 'delicate', 'shirt', 'johns', 'wherever', 'veteran', 'upward', 'seconds', 'permission', 'shoot', 'christmas', 'combat', 'enemies', 'eager', 'gentle', 'pistol', 'cap', 'wings', 'dull', 'suite', 'butter', 'mirror', 'ranch', 'approaching', 'surrounding', 'disturbed', 'widow', 'landing', 'cellar', 'bath', 'instruments', 'jew', 'storm', 'al', 'delightful', 'mysterious', 'recalled', 'marshal', 'emerged', 'unhappy', 'helva', 'billy', 'palfrey', 'stretch', 'coolidge', 'gear', 'aboard', 'attacked', 'fortune', 'hired', 'pack', 'star', 'fog', 'painful', 'proceeded', 'cancer', 'breaking', 'bangjensen', 'grateful', 'ward', 'pile', 'fist', 'faint', 'patrol', 'evidently', 'terror', 'parade', 'wines', 'honey', 'wildly', 'conductor', 'saddle', 'barrel', 'bore', 'jump', 'seventeen', 'scarcely', 'theresa', 'cheap', 'weekly', 'mexican', 'criminal', 'subjected', 'tail', 'moore', 'peas', 'rifles', 'motel', 'coach', 'swing', 'seized', 'bend', 'brave', 'leather', 'arrive', 'stupid', 'depression', 'relieved', 'generations', 'stern', 'bowl', 'heights', 'habit', 'jean', 'burns', 'stuck', 'historic', 'thinks', 'victims', 'fogg', 'plates', 'excited', 'plaster', 'orange', 'arrival', 'rocks', 'cat', 'noble', 'hollywood', 'belly', 'planets', 'dances', 'trucks', 'cleared', 'bobby', 'spare', 'wounded', 'quiney', 'worn', 'whisky', 'harder', 'curiosity', 'deck', 'whispered', 'giant', 'ruth', 'sink', 'pip', 'spencer', 'tie', 'midnight', 'dive', 'happiness', 'searching', 'plate', 'aunt', '600', 'servants', 'relatives', 'hits', 'joke', 'hide', 'patience', 'werent', 'palm', 'ah', 'di', 'desperately', 'auto', 'sticks', 'editors', 'gang', 'freely', 'sighed', 'laughter', 'womans', 'vienna', 'bother', 'nerves', 'soap', 'rhythm', 'complained', 'uneasy', 'tire', 'loaded', 'surrender', 'savage', 'fans', 'morris', 'autumn', 'racing', 'herd', 'yelled', 'blues', 'bobbie', 'sandburg', 'pitch', 'steadily', 'tip', 'drinks', 'panic', 'johnston', 'russ', 'displays', 'dishes', 'sixty', 'francis', 'ugly', 'questioning', 'suspected', 'bullets', 'startled', 'despair', 'wondering', 'cromwell', 'podger', 'flash', 'witnesses', 'crack', 'pools', 'joyce', 'ben', 'springs', 'neat', 'shame', 'jail', 'killer', 'marble', 'stumbled', 'melody', 'painter', 'desert', 'hen', 'delay', 'helpless', 'hesitated', 'surrounded', 'skirt', 'crossing', 'tales', 'hotels', 'bdikkat', 'tale', 'mate', 'rang', 'competent', 'breathing', 'possession', 'forming', 'intimate', 'lucky', 'envelope', 'wheels', 'gentlemen', 'screw', 'persuaded', 'definitely', 'bold', 'bridget', 'loves', 'beam', 'rush', 'cream', 'clock', 'cathy', 'slide', 'sheriff', 'nude', 'cafe', 'splendid', 'borden', 'greeted', 'pipe', 'cape', 'el', 'dolores', 'loud', 'laura', 'suitcase', 'christs', 'brushed', 'arnold', 'decent', 'allen', 'worries', 'notte', 'poverty', 'happily', 'responded', 'promises', 'physically', 'impulse', 'secrets', 'boots', 'michelangelo', 'endless', 'doc', 'pioneer', 'strikes', 'wit', 'jungle', 'nest', 'hasnt', 'thereafter', 'ranks', 'reporter', 'fantastic', 'puts', 'fitted', 'stake', 'buck', 'tones', 'newer', 'reactionary', 'whites', 'bones', 'gather', 'crash', 'crawled', 'trim', 'alike', 'seasons', 'hatred', 'trap', 'lean', 'ham', 'hay', 'crown', 'deadly', 'brains', 'neatly', 'straightened', 'tobacco', 'arrested', 'pamela', 'shocked', 'companion', 'glued', 'rob', '1927', 'fury', 'polish', 'toes', 'canvas', 'guitar', 'delivery', 'letch', 'camps', 'servant', 'fires', 'salem', 'overnight', 'politicians', 'sober', 'stroke', 'wisconsin', 'helion', 'smelled', 'midst', 'slip', 'rousseau', 'packed', 'arkansas'], ['per', 'million', '10', '1960', 'cent', '15', '1961', '12', '30', 'daily', 'march', '8', '20', '1959', '100', '25', 'june', '50', '1958', 'inches', '14', 'november', 'approximately', 'april', '18', 'estimated', 'july', 'billion', '16', '24', 'september', '13', '60', 'august', 'january', '40', 'percent', 'october', '22', '23', 'diameter', 'pounds', 'february', '17', '26', 'sept', 'ending', 'oct', '28', 'feb', 'mg'], ['command'], ['lines'], ['result', 'methods', 'normal', 'temperature', 'influence', 'reaction', 'specific', 'actual', 'relationship', 'observed', 'flow', 'chain', 'interference', 'continuous', 'assumption', 'urethane', 'foams', 'relevant'], ['difference', 'showed', 'color', 'trial', 'list', 'cause', 'theory', 'ways', 'meaning', 'forms', 'somewhat', 'numbers', 'degree', 'described', 'progress', 'test', 'decision', 'character', 'appear', 'nuclear', 'justice', 'obviously', 'gives', 'choice', 'born', 'parts', 'faith', 'completely', 'language', 'principle', 'analysis', 'existence', 'attitude', 'easily', 'scene', 'attack', 'role', 'despite', 'becomes', 'race', 'reasons', 'events', 'raised', 'places', 'books', 'techniques', 'status', 'follow', 'christ', 'primary', 'giving', 'usual', 'accepted', 'opinion', 'behavior', 'successful', 'attempt', 'changed', 'tradition', 'highly', 'practice', 'success', 'remain', 'records', 'condition', 'entirely', 'objective', 'structure', 'produced', 'noted', 'pass', 'failure', 'poetry', 'greatest', 'possibility', 'facts', 'significant', 'philosophy', 'allowed', 'takes', 'shape', 'stated', 'variety', 'rules', 'relatively', 'marked', 'circumstances', 'learn', 'individuals', 'broad', 'sex', 'appears', 'remains', 'interests', 'subjects', 'interesting', 'crisis', 'instance', 'lives', 'immediate', 'created', 'forced', 'event', 'teacher', 'fully', 'indicate', 'expression', 'desire', 'differences', 'tone', 'favor', 'enter', 'mission', 'permit', 'response', 'difficulty', 'presence', 'expressed', 'treated', 'selected', 'positive', 'contrast', 'ability', 'powers', 'nevertheless', 'brief', 'advantage', 'master', 'detail', 'allow', 'ordinary', 'evil', 'familiar', 'principles', 'chosen', 'universe', 'unity', 'drawn', 'naturally', 'independent', 'danger', 'connection', 'settled', 'willing', 'actions', 'arts', 'largely', 'characteristic', 'statements', 'appropriate', 'emotional', 'communication', 'teaching', 'birth', 'intellectual', 'issues', 'significance', 'objects', 'object', 'typical', 'achievement', 'bodies', 'contemporary', 'matters', 'spiritual', 'aspects', 'belief', 'message', 'highest', 'dramatic', 'experiment', 'assume', 'argument', 'unusual', 'relation', 'sufficient', 'speaking', 'recognize', 'greatly', 'struggle', 'achieved', 'extreme', 'ideal', 'learning', 'technique', 'ultimate', 'sexual', 'conclusion', 'exist', 'parties', 'solution', 'sensitive', 'judgment', 'causes', 'culture', 'fairly', 'unique', 'emphasis', 'understood', 'exercise', 'details', 'apparent', 'apart', 'truly', 'processes', 'majority', 'artist', 'academic', 'confidence', 'vital', 'granted', 'regarded', 'pure', 'represented', 'evident', 'apply', 'identity', 'sought', 'properly', 'positions', 'description', 'interpretation', 'suggest', 'symbol', 'content', 'examples', 'negative', 'prove', 'absence', 'experiences', 'sin', 'correct', 'element', 'conflict', 'trust', 'characteristics', 'conventional', 'achieve', 'situations', 'necessarily', 'conviction', 'fundamental', 'acceptance', 'partly', 'tendency', 'creative', 'consideration', 'integration', 'precisely', 'patterns', 'fears', 'periods', 'unknown', 'essentially', 'denied', 'instrument', 'overall', 'soul', 'movements', 'aspect', 'fiction', 'creation', 'intended', 'universal', 'medium', 'brain', 'elsewhere', 'valuable', 'depend', 'offers', 'errors', 'accomplished', 'recognition', 'opinions', 'answers', 'confusion', 'identification', 'recorded', 'environment', 'reactions', 'varied', 'bound', 'skill', 'anxiety', 'exists', 'distinction', 'societies', 'shift', 'languages', 'conscience', 'regarding', 'satisfactory', 'furthermore', 'striking', 'represent', 'relationships', 'images', 'fail', 'definite', 'tremendous', 'satisfied', 'phenomenon', 'affect', 'examine', 'classical', 'leads', 'conception', 'authors', 'radical'], ['southern'], ['concept'], ['pieces', 'units', 'index', 'cells', 'upper', 'frame', 'platform', 'sections', 'electronic', 'signs', 'flat', 'experiments', 'resolution', 'sets', 'assignment', 'tests', 'procedures', 'associated', 'contained', 'text', 'combination', 'sample', 'dictionary', 'components', 'centers', 'assigned', 'practices', 'waves', 'angle', 'extremely', 'engine', 'liquid', 'chamber', 'artery', 'bond', 'sum', 'mold', 'containing', 'load', 'contain', 'washing', 'listed', 'thickness', 'volumes', 'oxygen', 'separated', 'regions', 'readily', 'varying', 'obtain', 'reduction', 'tissue', 'atoms', 'indicates', 'composed', 'tool', 'observations', 'shear', 'bars', 'trials', 'hydrogen', 'holes', 'inch', 'definition', 'experimental', 'organic', 'axis', 'specifically', 'random', 'tested', 'foam', 'staining', 'edition', 'resulted', 'constructed', 'stored', 'symbols', 'cards', 'ratio', 'filling', 'accuracy', 'similarly', 'coating', 'multiple', 'tape', 'output', 'lumber', 'calculated', 'height', 'vehicle', 'isolated', 'symbolic', 'adjustment', 'vary', 'measurement', 'arrangement', 'sugar', 'findings', 'currently', 'chlorine', 'drill', 'adjusted', 'stems', 'equation', 'eg', 'covering', 'emission', 'density', 'evaluation', 'frequencies', 'allowing', 'tube', 'locking', 'saline', 'secondary', 'identical', 'carbon', 'mixture', 'directions', 'occurrence', 'suspended', 'network', 'sheets', 'measuring', 'instances', 'sewage', 'shots', 'bronchial', '500', 'drying', 'apparatus', 'fabrics', 'samples', 'compare', 'mines', '1956', 'stained', 'roots', 'frozen', 'scattered', 'holder', 'distributed', 'passes', 'define', 'pulmonary', 'fiber', 'velocity', 'planes', 'gyro', 'entry', '1953', 'frames', 'switches', 'variables', 'structural', 'vein', 'suits', 'composition', 'roughly', 'component', 'disk', 'pond', 'detergent', 'reflect', 'intervals', 'zero', 'categories', 'specimen', 'estimates', 'mathematical', 'tubes', 'accomplish', 'consisted', 'substances', 'fraction', 'grades', 'plug', 'empirical', 'channels', 'fibers', 'crystal', 'oxidation', 'lengths', '0', 'ft', 'investigations', 'lo', 'capabilities', 'sampling', 'frequency', 'successes', 'protein', 'intermediate', 'dynamic', 'shu', 'summary', 'theoretical', 'vacuum', 'loop', 'fluid', 'indirect', 'classification', 'masses', 'computed', 'sauce', 'foil', 'fractions', 'fats', '1951', 'probabilities', 'lungs', 'mustard', 'input', 'biological', 'span', 'stresses', 'label', 'numerical', 'interviews', 'sera', 'nonspecific', 'distances', 'daytime', 'males', 'blowing'], ['management'], ['discovered', 'writer', 'excellent', 'khrushchev', 'aside', 'score', 'imagination', 'parker', 'contact', 'appeal', 'save', 'minds', 'orchestra', 'painting', 'bible', 'avoid', 'begins', 'jews', 'motion', 'generation', 'faced', 'finding', 'papers', 'contrary', 'ages', 'incident', 'count', 'poem', 'guard', 'author', 'identified', 'feels', 'poets', 'enjoy', 'suffering', 'warning', 'odd', 'comfort', 'reader', 'emotions', 'catch', 'express', 'holds', 'replaced', 'rare', 'describe', 'writes', 'favorite', 'rough', 'presumably', 'joy', 'exception', 'existed', 'brings', 'discover', 'proof', 'pope', 'controlled', 'recall', 'assured', 'neutral', 'sacred', 'arrangements', 'experts', 'handling', 'simultaneously', 'spoken', 'plot', 'magic', 'delivered', 'release', 'wise', 'worship', 'license', 'sees', 'occupied', 'dignity', 'emotion', 'exposed', 'phrase', 'visible', 'corn', 'facing', 'catholics', 'missing', 'fate', 'missiles', 'suffer', 'swift', 'harmony', 'massive', 'prokofieff', 'romantic', 'confronted', 'dancer', 'poetic', 'era', 'impressed', 'virtue', 'deliberately', 'nowhere', 'allied', 'proportion', 'applying', 'scenes', 'perception', 'passion', 'germans', 'humanity', 'clarity', 'satisfaction', 'committed', 'peculiar', 'reputation', 'utterly', 'acquire', 'profound', 'friendship', 'literally', 'horizon', 'lively', 'repeat', 'appreciate', 'perspective', 'threatening', 'pointing', 'desperate', 'phenomena', 'mount', 'acquired', 'inspired', 'critic', 'continuity', 'observe', 'regiment', 'attached', 'expressing', 'tribute', 'incredible', 'protest', 'suggestions', 'unexpected', 'trace', 'genius', 'troubles', 'insight', 'destiny', 'attacks', 'adding', 'conspiracy', 'uncertain', 'belongs', 'resist', 'doubtful', 'moderate', 'warned', 'fortunate', 'faulkner', 'planet', 'resolved', 'defend', 'luxury', 'unlikely', 'punishment', 'pause', 'monument', 'enjoyment', 'steele', 'inclined', 'manage', 'enforced', 'quarrel', 'fascinating', 'basically', 'sailing', 'injured', 'diseases', 'tensions', 'startling', 'relax', 'demanding', 'vincent', 'emperor', 'eve'], ['placed'], ['previous'], ['summer', 'performance', 'caused', 'poems', 'speech', 'la', 'decade', 'centuries', 'hardy', 'nineteenth', 'severe', 'christianity', 'stable', 'flew', 'sixth', 'frightened', 'eighth', 'eighteenth', 'sweat', 'ninth', 'broader'], ['frequently'], ['image', 'stress', 'elements', 'hearing', 'dominant', 'notes', 'notion', 'mystery', 'conclusions', 'intention', 'instructions', 'context', 'guilt', 'russians', 'lesson', 'climate', 'recommendation', 'stressed', 'imitation', 'formulas', 'complement'], ['york', 'west', 'america', 'east', 'miles', 'st', 'england', 'western', 'former', 'soviet', 'chief', 'british', 'europe', 'visit', 'cities', 'remained', 'officer', 'communist', 'park', 'famous', 'battle', 'post', 'german', 'governor', 'bank', 'germany', 'trip', 'russian', 'providence', 'traditional', 'formed', 'france', 'berlin', 'valley', 'texas', 'san', 'china', 'liberal', 'california', 'towns', 'located', 'travel', 'shore', 'coast', 'negroes', 'headed', 'dallas', 'lake', 'troops', 'hudson', 'elections', 'latin', 'philadelphia', 'grand', 'mile', 'northern', 'moscow', 'waters', 'thousands', 'avenue', 'georgia', 'native', 'africa', 'pennsylvania', 'manchester', 'hundreds', 'mobile', 'asia', 'tour', 'route', 'mountains', 'editorial', 'democrats', 'downtown', 'illinois', 'atlantic', 'mississippi', 'ohio', 'visiting', 'urged', 'italy', 'falls', 'campus', 'poland', 'mountain', 'museum', 'farther', 'eastern', 'factory', 'heading', 'pacific', 'territory', 'allies', 'threatened', 'irish', 'liberals', 'southerners', 'settlement', 'northwest', 'carolina', 'neighboring', 'americas', 'tennessee', 'degrees', 'gulf', 'traveled', 'strategy', 'prairie', 'sixteen', 'border', 'alabama', 'florida'], ['union'], ['region'], ['figure', 'table', 'shown', 'similar', 'note', 'obtained', 'figures', 'indicated', 'determine', 'patient', 'mentioned', 'fig', 'chapter', 'column', 'article', 'pm', 'page', '9', 'completion', 'item', 'uniform', 'childhood', '1957', 'equivalent', 'tables', '31', 'onset', 'illustrated', 'sequence', 'lists', 'respectively', 'preceding', 'stem', 'tons', '27', 'greenwich', 'lb', 'delayed', 'aug', 'jan', 'cm', '34', 'nov', 'females', 'figs', 'sec'], ['treatment'], ['teachers'], ['ideas', 'literature', 'related', 'style', 'discussion', 'reality', 'literary', 'standards', 'historical', 'communism', 'politics', 'occasion', 'theme', 'dealing', 'readers', 'classic', 'scholarship', 'divine', 'recording', 'ethical', 'diplomatic', 'amateur', 'trends', 'ethics'], ['high', 'school', 'local', 'college', 'community', 'university', 'education', 'schools'], ['plane', 'fixed', 'agreed', 'address', 'title', 'n', 'novel', 'hence', 'minor', 'v', 'requires', 'publication', 'payments', 'employed', 'operator', 'q', 'losses', 'ie', 'curve', 'origin', 'visual', 'combined', 'represents', 'contains', 'corresponding', 'questionnaire', 'football', 'meets', 'pencil', 'samuel', 'rice', 'pathology', 'scheme', 'zg', 'starts', 'transferred', 'subsequent', 'sensitivity', 'optimal', 'limitations', 'mechanism', 'specified', 'profit', 'absent', 'k', 'occurs', 'reorganization', 'refer', 'reserved', 'pursuant', 'mitchell', 'outcome', 'tangent', 'correspondence', 'transformed', 'rational', 'exclusively', 'narrative', 'victor', 'displacement', 'category', 'convenient', 'miller', 'merger', 'wagner', 'residents', 'confirmed', 'transformation', 'bundle', '42', 'votes', 'donald', 'corporate', 'timber', 'vector', 'vertex'], ['background'], ['af', 'considered', 'points', 'aj', 'function', 'operating', 'separate', 'follows', 'formula', 'previously', '21', 'stages', 'desired', 'functions', 'consists', 'excess', 'distinct', 'defined', 'binomial', 'probability', 'namely', 'dimensions', 'polynomial', 'operated', 'minimal', 'consisting', 'magnetic', 'linear'], ['whatever', 'regular', 'presented', 'accept', 'forget', 'riding', 'washed', 'jess', 'cooking', 'prayer', 'excuse', 'managers', 'barton', 'accused', 'awake'], ['compared'], ['narrow'], ['du', 'pont'], ['water', 'white', 'hands', 'feet', 'body', 'together', 'held', 'air', 'stood', 'top', 'near', 'red', 'started', 'fire', 'ground', 'followed', 'reached', 'river', 'building', 'floor', 'paper', 'passed', 'police', 'hall', 'suddenly', 'sat', 'sent', 'lay', 'appeared', 'ran', 'evening', 'opened', 'stopped', 'piece', 'worked', 'bed', 'spring', 'wide', 'carried', 'arms', 'running', 'middle', 'eye', 'steps', 'window', 'gun', 'horse', 'lived', 'forward', 'returned', 'slowly', 'straight', 'hit', 'moving', 'shot', 'sun', 'pool', 'heavy', 'ball', 'ahead', 'deep', 'distance', 'afternoon', 'closed', 'drive', 'covered', 'mouth', 'teeth', 'trees', 'sides', 'standing', 'dropped', 'walk', 'glass', 'bridge', 'caught', 'sitting', 'arm', 'thin', 'mike', 'kitchen', 'clothes', 'quickly', 'bottom', 'pain', 'rose', 'winter', 'spread', 'train', 'bar', 'watched', 'neck', 'watch', 'round', 'beside', 'picked', 'laid', 'horses', 'watching', 'bottle', 'telephone', 'rock', 'store', 'pulled', 'jones', 'dogs', 'broke', 'faces', 'box', 'waited', 'clean', 'legs', 'desk', 'yards', 'draw', 'bedroom', 'pair'], ['practical'], ['reasonable'], ['hour', 'hotel', 'theres', 'married', 'playing', 'fight', 'suppose', 'sir', 'wait', 'lord', 'jack', 'youll', 'leaving', 'doesnt', 'check', 'finished', 'strange', 'ship', 'drink', 'explained', 'lady', 'fair', 'looks', 'nice', 'killed', 'lets', 'send', 'twice', 'die', 'brother', 'wants', 'fighting', 'morgan', 'boat', 'everybody', 'smiled', 'ought', 'asking', 'answered', 'youve', 'gets', 'helped', 'phil', 'escape', 'supposed', 'theyre', 'sleep', 'tomorrow', 'explain', 'grow', 'happen', 'shop', 'tom', 'kill', 'baby', 'careful', 'please', 'imagine', 'beach', 'eat', 'kid', 'closer', 'birds', 'fat', 'mine', 'snow', 'lewis', 'somebody', 'orders', 'busy', 'smile', 'flowers', 'replied', 'afraid', 'alive', 'baseball', 'guess', 'minute', 'joe', 'pick', 'plenty', 'wished', 'dear', 'phone', 'spend', 'wonderful', 'whats', 'telling', 'gods', 'advice', 'guy', 'cousin', 'laughed', 'agree', 'sick', 'knowing', 'till', 'quietly', 'ride', 'sorry', 'shes', 'drinking', 'cry', 'tired', 'hoped', 'charlie', 'cook', 'humor', 'honest', 'anyway', 'aint', 'hans', 'promise', 'em', 'lucy', 'kids', 'mama', 'fun', 'lawyer', 'heaven', 'rachel', 'linda', 'hate', 'throw', 'teach', 'decide', 'happens', 'handsome', 'winston', 'stranger', 'papa', 'forever', 'listening', 'anywhere', 'mad', 'tonight', 'robinson', 'havent', 'glad', 'supper', 'mood', 'susan', 'drunk', 'fool', 'stronger', 'smiling', 'dressed', 'hurry', 'thank', 'arent', 'youd', 'worried', 'jane', 'waste', 'pat', 'stanley', 'wed', 'crazy', 'weve', 'bride', 'rector', 'stuff', 'pa', 'damn', 'theyll', 'castro', 'eating', 'letting', 'grinned', 'felix', 'eddie', 'brannon', 'paused', 'shayne', 'dan', 'sarah', 'ekstrohm', 'eileen', 'owen', 'wally', 'yeah', 'harm', 'eugene', 'tim', 'wake', 'casey', 'lift', 'guys', 'pete', 'shouldnt', 'skyros', 'smart', 'keeps', 'okay', 'bet', 'boss', 'damned'], ['group'], ['information', 'major', 'available', 'total', 'recent', 'costs', 'data', 'amount', 'market', 'cases', 'results', 'involved', 'increased', 'volume', 'systems', 'changes', 'effective', 'groups', 'approach', 'activity', 'design', 'latter', 'include', 'price', 'applied', 'factors', 'studies', 'considerable', 'complex', 'active', 'product', 'companies', 'classes', 'increases', 'reference', 'potential', 'substantial', 'competition', 'commercial', 'uses', 'developments', 'plastics', 'considerations'], ['one', 'would', 'time', 'even', 'well', 'much', 'people', 'us', 'good', 'make', 'still', 'men', 'work', 'life', 'another', 'might', 'without', 'found', 'every', 'course', 'always', 'though', 'almost', 'far', 'yet', 'better', 'called', 'find', 'give', 'young', 'often', 'things', 'children', 'best', 'least', 'others', 'seemed', 'family', 'mind', 'done', 'god', 'kind', 'began', 'help', 'matter', 'perhaps', 'name', 'show', 'whether', 'gave', 'either', 'quite', 'seen', 'death', 'word', 'words', 'already', 'money', 'probably', 'real', 'brought', 'known', 'reason', 'job', 'love', 'true', 'full', 'seem', 'sometimes', 'clear', 'music', 'able', 'child', 'short', 'sound', 'strong', 'believe', 'mean', 'book', 'idea', 'alone', 'women', 'english', 'living', 'longer', 'finally', 'spirit', 'wrote', 'except', 'ones', 'hope', 'live', 'person', 'read', 'lost', 'feeling', 'simply', 'actually', 'sort', 'indeed', 'difficult', 'fine', 'simple', 'written', 'story', 'answer', 'working', 'likely', 'deal', 'certainly', 'neither', 'reading', 'questions', 'comes', 'understand', 'works', 'fear', 'mans', 'truth', 'apparently', 'serious', 'doubt', 'poor', 'speak', 'none', 'expect', 'hardly', 'interested', 'exactly', 'knows', 'parents', 'marriage', 'everyone'], ['john', 'c', 'dr', 'b', 'william', 'p', 'e', 'j', 'james', 'r', 'f', 'h', 'w', 'l', 'g'], ['require'], ['clay', 'poet', 'enemy', 'sight', 'fast', 'knife', 'turning', 'dust', 'foot', 'weather', 'drew', 'dry', 'beat', 'chair', 'fingers', 'hung', 'holding', 'towards', 'rifle', 'wilson', 'drove', 'cool', 'soft', 'shoulder', 'nose', 'heavily', 'onto', 'hole', 'shook', 'truck', 'beneath', 'hat', 'cross', 'tall', 'marine', 'wood', 'seat', 'crowd', 'wet', 'grass', 'breath', 'pushed', 'chest', 'driving', 'pull', 'shoulders', 'throat', 'nodded', 'warren', 'roberts', 'driver', 'swung', 'rolled', 'stairs', 'shut', 'threw', 'approached', 'watson', 'sheet', 'climbed', 'snake', 'fired', 'flying', 'heads', 'dirt', 'lifted', 'touched', 'smoke', 'rode', 'glance', 'burned', 'sleeping', 'stick', 'knees', 'leaned', 'edges', 'push', 'shadow', 'lying', 'matsuo', 'bench', 'tongue', 'knee', 'jumped', 'bent', 'stretched', 'fly', 'blow', 'curt', 'mud', 'slipped', 'knocked', 'ceiling', 'gently', 'trail', 'blanket', 'shorts', 'cried', 'pressed', 'bare', 'lighted', 'bullet', 'chin', 'clayton', 'julia', 'greg', 'alec', 'nick', 'glanced', 'cigarette', 'nearest', 'tractor', 'slid', 'seated', 'guards', 'heels', 'deegan', 'elaine', 'backward', 'pitcher', 'lowered', 'shaking', 'stiff', 'abel', 'leaped', 'grabbed', 'cheek', 'twisted', 'resting'], ['line'], ['cost', 'rate', 'increase', 'pay', 'research', 'industry', 'equipment', 'defense', 'production', 'planning', 'additional', 'technical', 'operation', 'products', 'demand', 'construction', 'requirements', 'personnel', 'exchange', 'budget', 'raise', 'expansion', 'expenditures', 'electronics', 'procurement', 'supplement'], ['square', 'step', 'station', 'filled', 'entered', 'key', 'houses', 'opposite', 'apartment', 'buildings', 'edge', 'camp', 'hill', 'walls', 'traffic', 'sit', 'block', 'empty', 'guests', 'signal', 'streets', 'garden', 'somewhere', 'circle', 'roof', 'safe', 'stone', 'spot', 'bay', 'entrance', 'wheel', 'rooms', 'wagon', 'putting', 'walking', 'windows', 'dozen', 'silence', 'gold', 'rear', 'wooden', 'burning', 'via', 'panels', 'nearby', 'flight', 'mostly', 'path', 'brush', 'reaching', 'coat', 'iron', 'darkness', 'porch', 'restaurant', 'stepped', 'painted', 'thrown', 'voices', 'palace', 'blocks', 'gate', 'doors', 'bus', 'burst', 'parked', 'gardens', 'crowded', 'shell', 'gathered', 'counter', 'barely', 'basement', 'parking', 'locked', 'split', 'drivers', 'fence', 'barn', 'hanging', 'closing', 'warmth', 'fled', 'hang', 'pulling', 'noon', 'backed', 'chairs', 'hurried', 'cabin', 'refrigerator', 'flower', 'dressing', 'halfway', 'hoag', 'rent', 'garage', 'sidewalk', 'hidden', 'peered', 'lobby', 'cottage', 'string'], ['state', 'public', 'federal'], ['finds'], ['south', 'north'], ['ended', 'soldiers', 'etc', 'charged', 'huge', 'estate', 'begun', 'investigation', 'fill', 'passage', 'shooting', 'purchase', 'deny', 'steel', 'meat', 'charges', 'arranged', 'acres', 'sale', 'agent', 'rapid', 'distinguished', 'weapon', 'suffered', 'cooling', 'limits', 'desegregation', 'talent', 'afford', 'prominent', 'automatic', 'intense', 'revealed', 'introduction', 'rayburn', 'destroyed', 'bringing', 'serving', 'belong', 'aim', 'banks', 'mixed', 'formation', 'outstanding', 'cleaning', 'beings', 'printed', 'crew', 'cash', 'fellowship', 'characters', 'stores', 'accurate', 'sympathetic', 'latest', 'claimed', 'reasonably', 'alternative', 'fallen', 'juniors', 'suitable', 'suggestion', 'raising', 'dispute', 'tied', 'childs', 'grave', 'determining', 'strictly', 'filed', 'accident', 'presents', 'discussions', 'transition', 'salvation', 'household', 'temporary', 'coal', 'effectiveness', 'elaborate', 'efficient', 'composer', 'accordingly', 'et', 'studio', 'successfully', 'consequently', 'mainly', 'pages', 'muscles', 'unions', 'franklin', 'complicated', 'shakespeare', 'suspect', 'skilled', 'reveal', 'marks', 'cuts', 'dates', 'replace', 'worker', 'ranging', 'folklore', 'widespread', 'vigorous', 'recovery', 'questioned', 'suggests', 'commonly', 'eternal', 'ecumenical', 'advantages', 'verse', 'innocence', 'surfaces', 'designs', 'formerly', 'calendar', 'rendered', 'promptly', 'encounter', 'examined', 'offering', 'african', 'libraries', 'exact', 'prevented', 'conceived', 'marriages', 'restrictions', 'permits', 'injury', 'publicly', 'discipline', 'companys', 'publicity', 'concepts', 'victim', 'angels', 'shopping', 'oral', 'fred', 'magazines', 'electricity', 'stockholders', 'zen', 'lands', 'paying', 'inherent', 'instruction', 'revenues', 'card', 'retirement', 'mutual', 'snakes', 'kingdom', 'parttime', 'preferred', 'quoted', 'contest', 'feeding', 'patchen', 'impressions', 'exposure', 'trading', 'vivid', 'pupils', 'succession', 'dealer', 'twentyfive', 'prospect', 'generous', 'subtle', 'flexible', 'shelters', 'allowances', 'partially', 'adult', 'pressing', 'ritual', 'abandoned', 'vague', 'viewed', 'probable', 'obanion', 'mason', 'heating', 'occupation', 'fulltime', 'desires', 'sitter', 'aimed', 'chances', 'absorbed', 'draft', 'utopia', 'employee', 'bombers', 'astronomy', 'cycle', 'hearts', 'wishes', 'compete', 'resumed', 'encouraging', 'farmer', 'lighting', 'sentiment', 'dedicated', 'circuit', 'settle', 'illustration', '10000', 'bases', 'radar', 'strategic', 'savings', 'gin', 'furnished', 'browns', 'select', 'giants', 'monthly', 'registered', 'boating', 'manufacturer', 'registration', 'sponsor', 'wives', 'merchants', '5000', 'regularly', 'melting', 'loyalty', 'carries', 'reliable', 'implications', 'altered', 'ad', 'appreciation', 'physiological', 'hypothalamic', 'balanced', 'describes', 'judges', 'substitute', 'refund', 'anglosaxon', 'triumph', 'spectacular', 'motive', 'unfortunate', 'meanings', 'ralph', 'architect', 'preparing', 'retained', 'forests', 'eliminated', 'casual', 'earliest', 'alienation', 'grows', 'bid', 'saving', 'aristotle', 'nuts', 'vernon', 'winds', 'telegraph', 'respond', 'behalf', 'pertinent', 'colorful', 'mars', 'partisan', 'heroic', 'mode', 'cholesterol', 'diet', 'habits', 'drawings', 'reveals', 'ideological', 'passengers', 'accepting', 'commodities', 'listeners', 'congressman', 'circular', 'governing', 'planetary', 'characterized', 'philip', 'occurring', 'tsunami', 'profits', 'revolutionary', 'inspection', 'addresses', 'prospective', 'availability', 'dedication', 'plato', 'conditioned', 'illness', 'invitation', 'anticipation', 'directors', 'binding', 'bc', 'temporarily', 'mechanics', 'underlying', 'orderly', 'disposal', 'aroused', 'authentic', 'rises', 'slim', 'vs', 'theories', 'clothing', 'hospitals', 'parks', 'explains', 'passages', 'repair', 'receives', 'creatures', 'tooth', 'converted', 'landscape', 'notable', 'mercy', 'oedipus', 'improvements', 'merchant', 'specialists', 'whereby', 'youngsters', 'patents', 'likes', 'assurance', 'salesmen', 'businesses', 'attract', 'makers', 'veterans', 'reactivity', 'wildlife', 'essay', 'rugged', 'venture', 'cuban', 'dated', 'tangible', 'comprehensive', 'consistently', 'realm', 'condemned'], ['surface', 'cut', 'pressure', 'low', 'material', 'range', 'earth', 'using', 'addition', 'size', 'lead', 'radio', 'types', 'extent', 'mass', 'standard', 'effects', 'designed', 'machine', 'unit', 'rates', 'energy', 'materials', 'gas', 'included', 'radiation', 'source', 'shows', 'stations', 'equal', 'sources', 'loss', 'distribution', 'speed', 'capacity', 'essential', 'features', 'maximum', 'reduced', 'anode', 'increasing', 'plus', 'phase', 'constant', 'factor', 'levels', 'minimum', 'electric', 'initial', 'impact', 'measured', 'properties', 'cell', 'reduce', 'moon', 'chemical', 'scale', 'useful', 'wage', 'intensity', 'extended', 'measurements', 'slight', 'vehicles', 'foods', 'efficiency', 'depends', 'comparison', 'concentration', 'wave', 'electrical', 'relative', 'amounts', 'resulting', 'possibilities', 'sufficiently', 'particles', 'storage', 'comparable', 'arc', 'improve', 'derived', 'processing', 'variable', 'producing', 'thermal', 'flux', 'electron', 'magnitude', 'temperatures', 'particle'], [], [], [], [], [], [], [], [], [], [], [], [], [], [], [], [], [], [], [], [], [], [], [], [], [], [], [], [], [], [], [], [], [], [], [], [], [], [], [], [], [], [], [], [], [], [], [], [], [], [], [], [], [], [], [], [], [], [], [], [], [], [], [], [], [], [], [], [], [], [], [], [], [], [], [], [], [], [], [], [], [], [], [], [], [], [], [], [], [], [], [], [], [], [], [], [], [], [], [], [], [], [], [], [], [], [], [], [], [], [], [], [], [], [], [], [], [], [], [], [], [], [], [], [], [], [], [], [], [], [], [], [], [], [], [], [], [], [], [], [], [], [], [], [], [], [], [], [], [], [], [], [], [], [], [], [], [], [], [], [], [], [], [], [], [], [], [], [], [], [], [], [], [], [], [], [], [], [], [], [], [], [], [], [], [], [], [], [], [], [], [], [], [], [], [], [], [], [], [], [], [], [], [], [], [], [], [], [], [], [], [], [], [], [], [], [], [], [], [], [], [], [], [], [], [], [], [], [], [], [], [], [], [], [], [], [], [], [], [], [], [], [], [], [], [], [], [], [], [], [], [], [], [], [], [], [], [], [], [], [], [], [], [], [], [], [], [], [], [], [], [], [], [], [], [], [], [], [], [], [], [], [], [], [], [], [], [], [], [], [], [], [], [], [], [], [], [], [], [], [], [], [], [], [], [], [], [], [], [], [], [], [], [], [], [], [], [], [], [], [], [], [], [], [], [], [], [], [], [], [], [], [], [], [], [], [], [], [], [], [], [], [], [], [], [], [], [], [], [], [], [], [], [], [], [], [], [], [], [], [], [], [], [], [], [], [], [], [], [], [], [], [], [], [], [], [], [], [], [], [], [], [], [], [], [], [], [], [], [], [], [], [], [], [], [], [], [], [], [], [], [], [], [], [], [], [], [], [], [], [], [], [], [], [], [], [], [], [], [], [], [], [], [], [], [], [], [], [], [], [], [], [], [], [], [], [], [], [], [], [], [], [], [], [], [], [], [], [], [], [], [], [], [], [], [], [], [], [], [], [], [], [], [], [], [], [], [], [], [], [], [], [], [], [], [], [], [], [], [], [], [], [], [], [], [], [], [], [], [], [], [], [], [], [], [], [], [], [], [], [], [], [], [], [], [], [], [], [], [], [], [], [], [], [], [], [], [], [], [], [], [], [], [], [], [], [], [], [], [], [], [], [], [], [], [], [], [], [], [], [], [], [], [], [], [], [], [], [], [], [], [], [], [], [], [], [], [], [], [], [], [], [], [], [], [], [], [], [], [], [], [], [], [], [], [], [], [], [], [], [], [], [], [], [], [], [], [], [], [], [], [], [], [], [], [], [], [], [], [], [], [], [], [], [], [], [], [], [], [], [], [], [], [], [], [], [], [], [], [], [], [], [], [], [], [], [], [], [], [], [], [], [], [], [], [], [], [], [], [], [], [], [], [], [], [], [], [], [], [], [], [], [], [], [], [], [], [], [], [], [], [], [], [], [], [], [], [], [], [], [], [], [], [], [], [], [], [], [], [], [], [], [], [], [], [], [], [], [], [], [], [], [], [], [], [], [], [], [], [], [], [], [], [], [], [], [], [], [], [], [], [], [], [], [], [], [], [], [], [], [], [], [], [], [], [], [], [], [], [], [], [], [], [], [], [], [], [], [], [], [], [], [], [], [], [], [], [], [], [], [], [], [], [], [], [], [], [], [], [], [], [], [], [], [], [], [], [], [], [], [], [], [], [], [], [], [], [], [], [], [], [], [], [], [], [], [], [], [], [], [], [], [], [], [], [], [], [], [], [], [], [], [], [], [], [], [], [], [], [], [], [], [], [], [], [], [], [], [], [], [], [], [], [], [], [], [], [], [], [], [], [], [], [], [], [], [], [], [], [], [], [], [], [], [], [], [], [], [], [], [], [], [], [], [], [], [], [], [], [], [], [], [], [], [], [], [], [], [], [], [], [], [], [], [], [], [], [], [], [], [], [], [], [], [], [], [], [], [], [], [], [], [], [], [], [], [], [], [], [], [], [], [], [], [], [], [], [], [], [], [], [], [], [], [], [], [], [], [], [], [], [], [], [], [], [], [], [], [], [], [], [], [], [], [], [], [], [], [], [], [], [], [], [], [], [], [], [], [], [], [], [], [], [], [], [], [], [], [], [], [], [], [], [], [], [], [], [], [], [], [], [], [], [], [], [], [], [], [], [], [], [], [], [], [], [], [], [], [], [], [], [], [], [], [], [], [], [], [], [], [], [], [], [], [], [], [], [], [], [], [], [], [], [], [], [], [], [], [], [], [], [], [], [], [], [], [], [], [], [], [], [], [], [], [], [], [], [], [], [], [], [], [], [], [], [], [], [], [], [], [], [], [], [], [], [], [], [], [], [], [], [], [], [], [], [], [], [], [], [], [], [], [], [], [], [], [], [], [], [], [], [], [], [], [], [], [], [], [], [], [], [], [], [], [], [], [], [], [], [], [], [], [], [], [], [], [], [], [], [], [], [], [], [], [], [], [], [], [], [], [], [], [], [], [], [], [], [], [], [], [], [], [], [], [], [], [], [], [], [], [], [], [], [], [], [], [], [], [], [], [], [], [], [], [], [], [], [], [], [], [], [], [], [], [], [], [], [], [], [], [], [], [], [], [], [], [], [], [], [], [], [], [], [], [], [], [], [], [], [], [], [], [], [], [], [], [], [], [], [], [], [], [], [], [], [], [], [], [], [], [], [], [], [], [], [], [], [], [], [], [], [], [], [], [], [], [], [], [], [], [], [], [], [], [], [], [], [], [], [], [], [], [], [], [], [], [], [], [], [], [], [], [], [], [], [], [], [], [], [], [], [], [], [], [], [], [], [], [], [], [], [], [], [], [], [], [], [], [], [], [], [], [], [], [], [], [], [], [], [], [], [], [], [], [], [], [], [], [], [], [], [], [], [], [], [], [], [], [], [], [], [], [], [], [], [], [], [], [], [], [], [], [], [], [], [], [], [], [], [], [], [], [], [], [], [], [], [], [], [], [], [], [], [], [], [], [], [], [], [], [], [], [], [], [], [], [], [], [], [], [], [], [], [], [], [], [], [], [], [], [], [], [], [], [], [], [], [], [], [], [], [], [], [], [], [], [], [], [], [], [], [], [], [], [], [], [], [], [], [], [], [], [], [], [], [], [], [], [], [], [], [], [], [], [], [], [], [], [], [], [], [], [], [], [], [], [], [], [], [], [], [], [], [], [], [], [], [], [], [], [], [], [], [], [], [], [], [], [], [], [], [], [], [], [], [], [], [], [], [], [], [], [], [], [], [], [], [], [], [], [], [], [], [], [], [], [], [], [], [], [], [], [], [], [], [], [], [], [], [], [], [], [], [], [], [], [], [], [], [], [], [], [], [], [], [], [], [], [], [], [], [], [], [], [], [], [], [], [], [], [], [], [], [], [], [], [], [], [], [], [], [], [], [], [], [], [], [], [], [], [], [], [], [], [], [], [], [], [], [], [], [], [], [], [], [], [], [], [], [], [], [], [], [], [], [], [], [], [], [], [], [], [], [], [], [], [], [], [], [], [], [], [], [], [], [], [], [], [], [], [], [], [], [], [], [], [], [], [], [], [], [], [], [], [], [], [], [], [], [], [], [], [], [], [], [], [], [], [], [], [], [], [], [], [], [], [], [], [], [], [], [], [], [], [], [], [], [], [], [], [], [], [], [], [], [], [], [], [], [], [], [], [], [], [], [], [], [], [], [], [], [], [], [], [], [], [], [], [], [], [], [], [], [], [], [], [], [], [], [], [], [], [], [], [], [], [], [], [], [], [], [], [], [], [], [], [], [], [], [], [], [], [], [], [], [], [], [], [], [], [], [], [], [], [], [], [], [], [], [], [], [], [], [], [], [], [], [], [], [], [], [], [], [], [], [], [], [], [], [], [], [], [], [], [], [], [], [], [], [], [], [], [], [], [], [], [], [], [], [], [], [], [], [], [], [], [], [], [], [], [], [], [], [], [], [], [], [], [], [], [], [], [], [], [], [], [], [], [], [], [], [], [], [], [], [], [], [], [], [], [], [], [], [], [], [], [], [], [], [], [], [], [], [], [], [], [], [], [], [], [], [], [], [], [], [], [], [], [], [], [], [], [], [], [], [], [], [], [], [], [], [], [], [], [], [], [], [], [], [], [], [], [], [], [], [], [], [], [], [], [], [], [], [], [], [], [], [], [], [], [], [], [], [], [], [], [], [], [], [], [], [], [], [], [], [], [], [], [], [], [], [], [], [], [], [], [], [], [], [], [], [], [], [], [], [], [], [], [], [], [], [], [], [], [], [], [], [], [], [], [], [], [], [], [], [], [], [], [], [], [], [], [], [], [], [], [], [], [], [], [], [], [], [], [], [], [], [], [], [], [], [], [], [], [], [], [], [], [], [], [], [], [], [], [], [], [], [], [], [], [], [], [], [], [], [], [], [], [], [], [], [], [], [], [], [], [], [], [], [], [], [], [], [], [], [], [], [], [], [], [], [], [], [], [], [], [], [], [], [], [], [], [], [], [], [], [], [], [], [], [], [], [], [], [], [], [], [], [], [], [], [], [], [], [], [], [], [], [], [], [], [], [], [], [], [], [], [], [], [], [], [], [], [], [], [], [], [], [], [], [], [], [], [], [], [], [], [], [], [], [], [], [], [], [], [], [], [], [], [], [], [], [], [], [], [], [], [], [], [], [], [], [], [], [], [], [], [], [], [], [], [], [], [], [], [], [], [], [], [], [], [], [], [], [], [], [], [], [], [], [], [], [], [], [], [], [], [], [], [], [], [], [], [], [], [], [], [], [], [], [], [], [], [], [], [], [], [], [], [], [], [], [], [], [], [], [], [], [], [], [], [], [], [], [], [], [], [], [], [], [], [], [], [], [], [], [], [], [], [], [], [], [], [], [], [], [], [], [], [], [], [], [], [], [], [], [], [], [], [], [], [], [], [], [], [], [], [], [], [], [], [], [], [], [], [], [], [], [], [], [], [], [], [], [], [], [], [], [], [], [], [], [], [], [], [], [], [], [], [], [], [], [], [], [], [], [], [], [], [], [], [], [], [], [], [], [], [], [], [], [], [], [], [], [], [], [], [], [], [], [], [], [], [], [], [], [], [], [], [], [], [], [], [], [], [], [], [], [], [], [], [], [], [], [], [], [], [], [], [], [], [], [], [], [], [], [], [], [], [], [], [], [], [], [], [], [], [], [], [], [], [], [], [], [], [], [], [], [], [], [], [], [], [], [], [], [], [], [], [], [], [], [], [], [], [], [], [], [], [], [], [], [], [], [], [], [], [], [], [], [], [], [], [], [], [], [], [], [], [], [], [], [], [], [], [], [], [], [], [], [], [], [], [], [], [], [], [], [], [], [], [], [], [], [], [], [], [], [], [], [], [], [], [], [], [], [], [], [], [], [], [], [], [], [], [], [], [], [], [], [], [], [], [], [], [], [], [], [], [], [], [], [], [], [], [], [], [], [], [], [], [], [], [], [], [], [], [], [], [], [], [], [], [], [], [], [], [], [], [], [], [], [], [], [], [], [], [], [], [], [], [], [], [], [], [], [], [], [], [], [], [], [], [], [], [], [], [], [], [], [], [], [], [], [], [], [], [], [], [], [], [], [], [], [], [], [], [], [], [], [], [], [], [], [], [], [], [], [], [], [], [], [], [], [], [], [], [], [], [], [], [], [], [], [], [], [], [], [], [], [], [], [], [], [], [], [], [], [], [], [], [], [], [], [], [], [], [], [], [], [], [], [], [], [], [], [], [], [], [], [], [], [], [], [], [], [], [], [], [], [], [], [], [], [], [], [], [], [], [], [], [], [], [], [], [], [], [], [], [], [], [], [], [], [], [], [], [], [], [], [], [], [], [], [], [], [], [], [], [], [], [], [], [], [], [], [], [], [], [], [], [], [], [], [], [], [], [], [], [], [], [], [], [], [], [], [], [], [], [], [], [], [], [], [], [], [], [], [], [], [], [], [], [], [], [], [], [], [], [], [], [], [], [], [], [], [], [], [], [], [], [], [], [], [], [], [], [], [], [], [], [], [], [], [], [], [], [], [], [], [], [], [], [], [], [], [], [], [], [], [], [], [], [], [], [], [], [], [], [], [], [], [], [], [], [], [], [], [], [], [], [], [], [], [], [], [], [], [], [], [], [], [], [], [], [], [], [], [], [], [], [], [], [], [], [], [], [], [], [], [], [], [], [], [], [], [], [], [], [], [], [], [], [], [], [], [], [], [], [], [], [], [], [], [], [], [], [], [], [], [], [], [], [], [], [], [], [], [], [], [], [], [], [], [], [], [], [], [], [], [], [], [], [], [], [], [], [], [], [], [], [], [], [], [], [], [], [], [], [], [], [], [], [], [], [], [], [], [], [], [], [], [], [], [], [], [], [], [], [], [], [], [], [], [], [], [], [], [], [], [], [], [], [], [], [], [], [], [], [], [], [], [], [], [], [], [], [], [], [], [], [], [], [], [], [], [], [], [], [], [], [], [], [], [], [], [], [], [], [], [], [], [], [], [], [], [], [], [], [], [], [], [], [], [], [], [], [], [], [], [], [], [], [], [], [], [], [], [], [], [], [], [], [], [], [], [], [], [], [], [], [], [], [], [], [], [], [], [], [], [], [], [], [], [], [], [], [], [], [], [], [], [], [], [], [], [], [], [], [], [], [], [], [], [], [], [], [], [], [], [], [], [], [], [], [], [], [], [], [], [], [], [], [], [], [], [], [], [], [], [], [], [], [], [], [], [], [], [], [], [], [], [], [], [], [], [], [], [], [], [], [], [], [], [], [], [], [], [], [], [], [], [], [], [], [], [], [], [], [], [], [], [], [], [], [], [], [], [], [], [], [], [], [], [], [], [], [], [], [], [], [], [], [], [], [], [], [], [], [], [], [], [], [], [], [], [], [], [], [], [], [], [], [], [], [], [], [], [], [], [], [], [], [], [], [], [], [], [], [], [], [], [], [], [], [], [], [], [], [], [], [], [], [], [], [], [], [], [], [], [], [], [], [], [], [], [], [], [], [], [], [], [], [], [], [], [], [], [], [], [], [], [], [], [], [], [], [], [], [], [], [], [], [], [], [], [], [], [], [], [], [], [], [], [], [], [], [], [], [], [], [], [], [], [], [], [], [], [], [], [], [], [], [], [], [], [], [], [], [], [], [], [], [], [], [], [], [], [], [], [], [], [], [], [], [], [], [], [], [], [], [], [], [], [], [], [], [], [], [], [], [], [], [], [], [], [], [], [], [], [], [], [], [], [], [], [], [], [], [], [], [], [], [], [], [], [], [], [], [], [], [], [], [], [], [], [], [], [], [], [], [], [], [], [], [], [], [], [], [], [], [], [], [], [], [], [], [], [], [], [], [], [], [], [], [], [], [], [], [], [], [], [], [], [], [], [], [], [], [], [], [], [], [], [], [], [], [], [], [], [], [], [], [], [], [], [], [], [], [], [], [], [], [], [], [], [], [], [], [], [], [], [], [], [], [], [], [], [], [], [], [], [], [], [], [], [], [], [], [], [], [], [], [], [], [], [], [], [], [], [], [], [], [], [], [], [], [], [], [], [], [], [], [], [], [], [], [], [], [], [], [], [], [], [], [], [], [], [], [], [], [], [], [], [], [], [], [], [], [], [], [], [], [], [], [], [], [], [], [], [], [], [], [], [], [], [], [], [], [], [], [], [], [], [], [], [], [], [], [], [], [], [], [], [], [], [], [], [], [], [], [], [], [], [], [], [], [], [], [], [], [], [], [], [], [], [], [], [], [], [], [], [], [], [], [], [], [], [], [], [], [], [], [], [], [], [], [], [], [], [], [], [], [], [], [], [], [], [], [], [], [], [], [], [], [], [], [], [], [], [], [], [], [], [], [], [], [], [], [], [], [], [], [], [], [], [], [], [], [], [], [], [], [], [], [], [], [], [], [], [], [], [], [], [], [], [], [], [], [], [], [], [], [], [], [], [], [], [], [], [], [], [], [], [], [], [], [], [], [], [], [], [], [], [], [], [], [], [], [], [], [], [], [], [], [], [], [], [], [], [], [], [], [], [], [], [], [], [], [], [], [], [], [], [], [], [], [], [], [], [], [], [], [], [], [], [], [], [], [], [], [], [], [], [], [], [], [], [], [], [], [], [], [], [], [], [], [], [], [], [], [], [], [], [], [], [], [], [], [], [], [], [], [], [], [], [], [], [], [], [], [], [], [], [], [], [], [], [], [], [], [], [], [], [], [], [], [], [], [], [], [], [], [], [], [], [], [], [], [], [], [], [], [], [], [], [], [], [], [], [], [], [], [], [], [], [], [], [], [], [], [], [], [], [], [], [], [], [], [], [], [], [], [], [], [], [], [], [], [], [], [], [], [], [], [], [], [], [], [], [], [], [], [], [], [], [], [], [], [], [], [], [], [], [], [], [], [], [], [], [], [], [], [], [], [], [], [], [], [], [], [], [], [], [], [], [], [], [], [], [], [], [], [], [], [], [], [], [], [], [], [], [], [], [], [], [], [], [], [], [], [], [], [], [], [], [], [], [], [], [], [], [], [], [], [], [], [], [], [], [], [], [], [], [], [], [], [], [], [], [], [], [], [], [], [], [], [], [], [], [], [], [], [], [], [], [], [], [], [], [], [], [], [], [], [], [], [], [], [], [], [], [], [], [], [], [], [], [], [], [], [], [], [], [], [], [], [], [], [], [], [], [], [], [], [], [], [], [], [], [], [], [], [], [], [], [], [], [], [], [], [], [], [], [], [], [], [], [], [], [], [], [], [], [], [], [], [], [], [], [], [], [], [], [], [], [], [], [], [], [], [], [], [], [], [], [], [], [], [], [], [], [], [], [], [], [], [], [], [], [], [], [], [], [], [], [], [], [], [], [], [], [], [], [], [], [], [], [], [], [], [], [], [], [], [], [], [], [], [], [], [], [], [], [], [], [], [], [], [], [], [], [], [], [], [], [], [], [], [], [], [], [], [], [], [], [], [], [], [], [], [], [], [], [], [], [], [], [], [], [], [], [], [], [], [], [], [], [], [], [], [], [], [], [], [], [], [], [], [], [], [], [], [], [], [], [], [], [], [], [], [], [], [], [], [], [], [], [], [], [], [], [], [], [], [], [], [], [], [], [], [], [], [], [], [], [], [], [], [], [], [], [], [], [], [], [], [], [], [], [], [], [], [], [], [], [], [], [], [], [], [], [], [], [], [], [], [], [], [], [], [], [], [], [], [], [], [], [], [], [], [], [], [], [], [], [], [], [], [], [], [], [], [], [], [], [], [], [], [], [], [], [], [], [], [], [], [], [], [], [], [], [], [], [], [], [], [], [], [], [], [], [], [], [], [], [], [], [], [], [], [], [], [], [], [], [], [], [], [], [], [], [], [], [], [], [], [], [], [], [], [], [], [], [], [], [], [], [], [], [], [], [], [], [], [], [], [], [], [], [], [], [], [], [], [], [], [], [], [], [], [], [], [], [], [], [], [], [], [], [], [], [], [], [], [], [], [], [], [], [], [], [], [], [], [], [], [], [], [], [], [], [], [], [], [], [], [], [], [], [], [], [], [], [], [], [], [], [], [], [], [], [], [], [], [], [], [], [], [], [], [], [], [], [], [], [], [], [], [], [], [], [], [], [], [], [], [], [], [], [], [], [], [], [], [], [], [], [], [], [], [], [], [], [], [], [], [], [], [], [], [], [], [], [], [], [], [], [], [], [], [], [], [], [], [], [], [], [], [], [], [], [], [], [], [], [], [], [], [], [], [], [], [], [], [], [], [], [], [], [], [], [], [], [], [], [], [], [], [], [], [], [], [], [], [], [], [], [], [], [], [], [], [], [], [], [], [], [], [], [], [], [], [], [], [], [], [], [], [], [], [], [], [], [], [], [], [], [], [], [], [], [], [], [], [], [], [], [], [], [], [], [], [], [], [], [], [], [], [], [], [], [], [], [], [], [], [], [], [], [], [], [], [], [], [], [], [], [], [], [], [], [], [], [], [], [], [], [], [], [], [], [], [], [], [], [], [], [], [], [], [], [], [], [], [], [], [], [], [], [], [], [], [], [], [], [], [], [], [], [], [], [], [], [], [], [], [], [], [], [], [], [], [], [], [], [], [], [], [], [], [], [], [], [], [], [], [], [], [], [], [], [], [], [], [], [], [], [], [], [], [], [], [], [], [], [], [], [], [], [], [], [], [], [], [], [], [], [], [], [], [], [], [], [], [], [], [], [], [], [], [], [], [], [], [], [], [], [], [], [], [], [], [], [], [], [], [], [], [], [], [], [], [], [], [], [], [], [], [], [], [], [], [], [], [], [], [], [], [], [], [], [], [], [], [], [], [], [], [], [], [], [], [], [], [], [], [], [], [], [], [], [], [], [], [], [], [], [], [], [], [], [], [], [], [], [], [], [], [], [], [], [], [], [], [], [], [], [], [], [], [], [], [], [], [], [], [], [], [], [], [], [], [], [], [], [], [], [], [], [], [], [], [], [], [], [], [], [], [], [], [], [], [], [], [], [], [], [], [], [], [], [], [], [], [], [], [], [], [], [], [], [], [], [], [], [], [], [], [], [], [], [], [], [], [], [], [], [], [], [], [], [], [], [], [], [], [], [], [], [], [], [], [], [], [], [], [], [], [], [], [], [], [], [], [], [], [], [], [], [], [], [], [], [], [], [], [], [], [], [], [], [], [], [], [], [], [], [], [], [], [], [], [], [], [], [], [], [], [], [], [], [], [], [], [], [], [], [], [], [], [], [], [], [], [], [], [], [], [], [], [], [], [], [], [], [], [], [], [], [], [], [], [], [], [], [], [], [], [], [], [], [], [], [], [], [], [], [], [], [], [], [], [], [], [], [], [], [], [], [], [], [], [], [], [], [], [], [], [], [], [], [], [], [], [], [], [], [], [], [], [], [], [], [], [], [], [], [], [], [], [], [], [], [], [], [], [], [], [], [], [], [], [], [], [], [], [], [], [], [], [], [], [], [], [], [], [], [], [], [], [], [], [], [], [], [], [], [], [], []]\n"
     ]
    }
   ],
   "source": [
    "# k-means\n",
    "from sklearn.cluster import KMeans\n",
    "\n",
    "kmeans = KMeans(n_clusters=100).fit(embeddings)\n",
    "clusters = []\n",
    "\n",
    "def ClusterIndicesNumpy(clustNum, labels_array):\n",
    "    return np.where(labels_array == clustNum)[0]\n",
    "\n",
    "for i in range(len(kmeans.labels_)):\n",
    "    idx = ClusterIndicesNumpy(i,kmeans.labels_)\n",
    "    clusters.append([index_to_vocab[i] for i in idx])\n",
    "\n",
    "print(clusters)"
   ]
  },
  {
   "cell_type": "code",
   "execution_count": 11,
   "metadata": {},
   "outputs": [
    {
     "data": {
      "text/plain": [
       "KNeighborsClassifier(algorithm='auto', leaf_size=30, metric='cosine',\n",
       "           metric_params=None, n_jobs=1, n_neighbors=10, p=2,\n",
       "           weights='uniform')"
      ]
     },
     "execution_count": 11,
     "metadata": {},
     "output_type": "execute_result"
    }
   ],
   "source": [
    "# nearest neighbors\n",
    "top_20 = [x[0] for x in bag.most_common(20)]\n",
    "# print(top_20)\n",
    "\n",
    "from sklearn.neighbors import KNeighborsClassifier\n",
    "knn = KNeighborsClassifier(n_neighbors=10,metric='cosine')\n",
    "y = np.arange(embeddings.shape[0])\n",
    "knn.fit(embeddings, y)"
   ]
  },
  {
   "cell_type": "code",
   "execution_count": 12,
   "metadata": {
    "collapsed": true
   },
   "outputs": [],
   "source": [
    "nn_index = knn.kneighbors(embeddings, return_distance=False)"
   ]
  },
  {
   "cell_type": "code",
   "execution_count": 13,
   "metadata": {},
   "outputs": [
    {
     "name": "stdout",
     "output_type": "stream",
     "text": [
      "[[   0    8   10 ...,   39   42    5]\n",
      " [   1    4   42 ...,    2   28   24]\n",
      " [   2    9   40 ...,  105   31  231]\n",
      " ..., \n",
      " [4997 2028 4984 ...,  201 2856 2432]\n",
      " [4998  202  665 ...,  290  307  641]\n",
      " [4999 4111  831 ..., 4755   14  321]]\n"
     ]
    }
   ],
   "source": [
    "print(nn_index)"
   ]
  },
  {
   "cell_type": "code",
   "execution_count": 14,
   "metadata": {},
   "outputs": [
    {
     "name": "stdout",
     "output_type": "stream",
     "text": [
      "one['first', 'man', 'every', 'would', 'even', 'could', 'another', 'might', 'time']\n",
      "would['could', 'might', 'must', 'may', 'much', 'one', 'said', 'make', 'us']\n",
      "said['like', 'know', 'get', 'dont', 'didnt', 'think', 'told', 'see', 'im']\n",
      "new['also', 'first', 'many', 'may', 'york', 'world', 'work', 'one', 'made']\n",
      "could['would', 'said', 'might', 'way', 'didnt', 'one', 'man', 'come', 'dont']\n",
      "time['one', 'way', 'first', 'even', 'would', 'still', 'much', 'could', 'well']\n",
      "two['three', 'one', 'many', 'four', 'several', 'first', 'found', 'time', 'long']\n",
      "may['also', 'would', 'must', 'might', 'one', 'made', 'even', 'new', 'however']\n",
      "first['one', 'last', 'time', 'second', 'two', 'next', 'work', 'every', 'new']\n",
      "like['said', 'know', 'man', 'little', 'get', 'come', 'way', 'could', 'even']\n",
      "man['one', 'like', 'could', 'little', 'still', 'never', 'said', 'way', 'people']\n",
      "even['much', 'one', 'still', 'would', 'like', 'might', 'well', 'time', 'said']\n",
      "made['make', 'one', 'may', 'also', 'would', 'first', 'must', 'time', 'might']\n",
      "also['may', 'must', 'one', 'made', 'even', 'new', 'many', 'would', 'first']\n",
      "many['two', 'one', 'new', 'also', 'even', 'might', 'may', 'people', 'life']\n",
      "must['would', 'may', 'also', 'might', 'one', 'could', 'even', 'us', 'people']\n",
      "years['year', 'days', 'months', 'two', 'three', 'men', 'day', 'time', 'first']\n",
      "af['1', 'aj', 'q', 'function', 'number', 'system', 'may', 'used', '2']\n",
      "back['said', 'went', 'away', 'around', 'left', 'like', 'got', 'way', 'get']\n",
      "well['would', 'much', 'even', 'one', 'said', 'good', 'way', 'little', 'like']\n"
     ]
    }
   ],
   "source": [
    "nn = []\n",
    "for n in nn_index[:20]:\n",
    "    nn.append([index_to_vocab[n[i]] for i in range(1,10)])\n",
    "for i in range(len(nn)):\n",
    "    print(V[i]+\"{}\".format(nn[i]))"
   ]
  },
  {
   "cell_type": "markdown",
   "metadata": {},
   "source": [
    "# Part 2. Collaborative Filtering (50 points)\n",
    "\n",
    "In this second part, you will implement collaborative filtering on the Netflix prize dataset -- don’t freak out, the provided sample dataset has only ~2000 items and ~28,000 users.\n",
    "\n",
    "As background, read the paper [Empirical Analysis of Predictive Algorithms for Collaborative Filtering](https://arxiv.org/pdf/1301.7363.pdf) up to Section 2.1. Of course you can read further if you are interested, and you can also refer to the course slides for collaborative filtering."
   ]
  },
  {
   "cell_type": "markdown",
   "metadata": {},
   "source": [
    "## 2.1 Load Netflix Data\n",
    "\n",
    "The dataset is subset of movie ratings data from the Netflix Prize Challenge. Download the dataset from Piazza. It contains a train set, test set, movie file, and README file. The last two files are original ones from the Netflix Prize, however; in this homework you will deal with train and test files which both are subsets of the Netflix training data. Each of train and test files has lines having this format: MovieID,UserID,Rating.\n",
    "\n",
    "Your job is to predict a rating in the test set using those provided in the training set."
   ]
  },
  {
   "cell_type": "code",
   "execution_count": 15,
   "metadata": {},
   "outputs": [
    {
     "name": "stdout",
     "output_type": "stream",
     "text": [
      "Number of Movies in train set = 1821\n",
      "Number of Users in train set = 28978\n",
      "Number of Ratings in train set = 5\n"
     ]
    }
   ],
   "source": [
    "# load the data, then print out the number of ratings, \n",
    "# movies and users in each of train and test sets.\n",
    "# load the data, then print out the number of ratings, \n",
    "# movies and users in each of train and test sets.\n",
    "\n",
    "import pandas as pd\n",
    "train_df = pd.read_csv('netflix-dataset/TrainingRatings.txt', header = None, usecols=[0,1,2])\n",
    "# print(train_df[:10])\n",
    "print(\"Number of Movies in train set = \" + str(train_df.loc[:,0].unique().size))\n",
    "print(\"Number of Users in train set = \" + str(train_df.loc[:,1].unique().size))\n",
    "print(\"Number of Ratings in train set = \" + str(train_df.loc[:,2].unique().size))"
   ]
  },
  {
   "cell_type": "code",
   "execution_count": 16,
   "metadata": {},
   "outputs": [
    {
     "name": "stdout",
     "output_type": "stream",
     "text": [
      "Number of Movies in test set = 1701\n",
      "Number of Users in test set = 27555\n",
      "Number of Ratings in test set = 5\n"
     ]
    }
   ],
   "source": [
    "test_df = pd.read_csv('netflix-dataset/TestingRatings.txt', header = None)\n",
    "# print(test_df[:10])\n",
    "print(\"Number of Movies in test set = \" + str(test_df.loc[:,0].unique().size))\n",
    "print(\"Number of Users in test set = \" + str(test_df.loc[:,1].unique().size))\n",
    "print(\"Number of Ratings in test set = \" + str(test_df.loc[:,2].unique().size))"
   ]
  },
  {
   "cell_type": "markdown",
   "metadata": {},
   "source": [
    "## 2.2 Implement CF\n",
    "\n",
    "In this part, you will implement the basic collaborative filtering algorithm described in Section 2.1 of the paper -- that is, focus only on Equations 1 and 2 (where Equation 2 is just the Pearson correlation). You should consider the first 5,000 users with their associated items in the test set. \n",
    "\n",
    "Note that you should test the algorithm for a small set of users e.g., 10 users first and then run for 5,000 users. It may take long to run but you won't have memory issues. \n",
    "\n",
    "Set k to 0.1. "
   ]
  },
  {
   "cell_type": "code",
   "execution_count": 92,
   "metadata": {},
   "outputs": [],
   "source": [
    "grouped = train_df.groupby(1)\n",
    "n = 10\n",
    "users_data = [g for g in list(grouped)[:n]]"
   ]
  },
  {
   "cell_type": "code",
   "execution_count": 101,
   "metadata": {},
   "outputs": [
    {
     "data": {
      "text/plain": [
       "[(8, 5.0),\n",
       " (28, 4.0),\n",
       " (185, 4.0),\n",
       " (636, 4.0),\n",
       " (1046, 3.0),\n",
       " (1202, 4.0),\n",
       " (1289, 1.0),\n",
       " (1406, 3.0),\n",
       " (1482, 5.0),\n",
       " (1832, 4.0),\n",
       " (1901, 5.0),\n",
       " (2198, 3.0),\n",
       " (2290, 4.0),\n",
       " (2660, 5.0),\n",
       " (2755, 3.0),\n",
       " (2757, 3.0),\n",
       " (3151, 2.0),\n",
       " (3165, 4.0),\n",
       " (3285, 4.0),\n",
       " (3290, 5.0),\n",
       " (3418, 3.0),\n",
       " (3538, 5.0),\n",
       " (3541, 5.0),\n",
       " (3638, 5.0),\n",
       " (3740, 3.0),\n",
       " (3890, 3.0),\n",
       " (3893, 3.0),\n",
       " (4432, 5.0),\n",
       " (4546, 4.0),\n",
       " (4627, 4.0),\n",
       " (4640, 5.0),\n",
       " (4876, 3.0),\n",
       " (4932, 4.0),\n",
       " (5069, 4.0),\n",
       " (5149, 4.0),\n",
       " (5562, 4.0),\n",
       " (5607, 4.0),\n",
       " (5814, 3.0),\n",
       " (6085, 4.0),\n",
       " (6287, 5.0),\n",
       " (6336, 4.0),\n",
       " (6347, 2.0),\n",
       " (6408, 5.0),\n",
       " (6523, 3.0),\n",
       " (6911, 3.0),\n",
       " (6971, 4.0),\n",
       " (7067, 4.0),\n",
       " (7145, 5.0),\n",
       " (7511, 2.0),\n",
       " (7577, 3.0),\n",
       " (7899, 3.0),\n",
       " (8384, 3.0),\n",
       " (8428, 3.0),\n",
       " (8596, 5.0),\n",
       " (8677, 3.0),\n",
       " (9043, 5.0),\n",
       " (9131, 3.0),\n",
       " (9481, 5.0),\n",
       " (9617, 5.0),\n",
       " (9728, 4.0),\n",
       " (10082, 3.0),\n",
       " (10255, 5.0),\n",
       " (10429, 2.0),\n",
       " (10712, 3.0),\n",
       " (10774, 4.0),\n",
       " (10835, 5.0),\n",
       " (10921, 3.0),\n",
       " (10947, 5.0),\n",
       " (11080, 3.0),\n",
       " (11182, 5.0),\n",
       " (11613, 5.0),\n",
       " (11638, 5.0),\n",
       " (11837, 3.0),\n",
       " (12232, 5.0),\n",
       " (12243, 4.0),\n",
       " (12293, 5.0),\n",
       " (12355, 3.0),\n",
       " (12639, 5.0),\n",
       " (12778, 5.0),\n",
       " (13519, 5.0),\n",
       " (13651, 3.0),\n",
       " (13748, 5.0),\n",
       " (13934, 3.0),\n",
       " (14013, 3.0),\n",
       " (14144, 4.0),\n",
       " (14185, 5.0),\n",
       " (14209, 4.0),\n",
       " (14320, 5.0),\n",
       " (14457, 4.0),\n",
       " (14459, 4.0),\n",
       " (14484, 5.0),\n",
       " (15183, 5.0),\n",
       " (15529, 3.0),\n",
       " (15582, 2.0),\n",
       " (15816, 4.0),\n",
       " (15955, 4.0),\n",
       " (16082, 4.0),\n",
       " (16150, 4.0),\n",
       " (16286, 4.0),\n",
       " (16606, 3.0),\n",
       " (16707, 3.0),\n",
       " (17324, 5.0),\n",
       " (17358, 5.0),\n",
       " (17558, 3.0)]"
      ]
     },
     "execution_count": 101,
     "metadata": {},
     "output_type": "execute_result"
    }
   ],
   "source": [
    "import numpy as np\n",
    "userid = np.array([u[0] for u in users_data])\n",
    "\n",
    "user_data = []\n",
    "for g in users_data:\n",
    "    movie_ids = g[1][0].values\n",
    "    ratings = g[1][2].values\n",
    "    user_data.append(zip(movie_ids,ratings))\n",
    "    \n",
    "user_data = np.array(user_data)\n",
    "user_data[0]"
   ]
  },
  {
   "cell_type": "markdown",
   "metadata": {},
   "source": [
    "## 2.3 Evaluation \n",
    "\n",
    "You should evaluate your predictions using Mean Absolute Error and Root Mean Squared Error. "
   ]
  },
  {
   "cell_type": "code",
   "execution_count": null,
   "metadata": {
    "collapsed": true
   },
   "outputs": [],
   "source": [
    "# Mean Absolute Error"
   ]
  },
  {
   "cell_type": "code",
   "execution_count": null,
   "metadata": {
    "collapsed": true
   },
   "outputs": [],
   "source": [
    "# Root Mean Squared Error"
   ]
  },
  {
   "cell_type": "markdown",
   "metadata": {},
   "source": [
    "## 2.4 Extensions\n",
    "\n",
    "Given your results in the previous part, can you do better? For this last part you should report on your best attempt at improving MAE and RMSE. Provide code, results, plus a brief discussion on your approach."
   ]
  },
  {
   "cell_type": "code",
   "execution_count": null,
   "metadata": {
    "collapsed": true
   },
   "outputs": [],
   "source": [
    "# Your Code Here..."
   ]
  },
  {
   "cell_type": "markdown",
   "metadata": {},
   "source": [
    "*Insert discussion here*"
   ]
  }
 ],
 "metadata": {
  "kernelspec": {
   "display_name": "Python 2",
   "language": "python",
   "name": "python2"
  },
  "language_info": {
   "codemirror_mode": {
    "name": "ipython",
    "version": 2
   },
   "file_extension": ".py",
   "mimetype": "text/x-python",
   "name": "python",
   "nbconvert_exporter": "python",
   "pygments_lexer": "ipython2",
   "version": "2.7.14"
  }
 },
 "nbformat": 4,
 "nbformat_minor": 2
}
