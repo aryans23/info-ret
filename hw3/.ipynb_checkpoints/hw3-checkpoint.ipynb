{
 "cells": [
  {
   "cell_type": "markdown",
   "metadata": {},
   "source": [
    "#### CSCE 670 :: Information Storage and Retrieval :: Texas A&M University :: Spring 2018\n",
    "\n",
    "\n",
    "# Homework 3:  Embeddings + Recommenders\n",
    "\n",
    "### 100 points [5% of your final grade]\n",
    "\n",
    "### Due: Monday, April 9 by 11:59pm\n",
    "\n",
    "*Goals of this homework:* There are two main learning objectives: (i) implement and evaluate a pre-cursor to modern word2vec embeddings; and (ii) implement, evaluate, and improve upon traditional collaborative filtering recommenders.\n",
    "\n",
    "*Submission Instructions:* To submit your homework, rename this notebook as UIN_hw#.ipynb. For example, this homework submission would be: YourUIN_hw3.ipynb. Submit this notebook via ecampus. Your notebook should be completely self-contained, with the results visible in the notebook. \n",
    "\n",
    "*Late submission policy:* For this homework, you may use up to three of your late days, meaning that no submissions will be accepted after Thursday, April 12 at 11:59pm."
   ]
  },
  {
   "cell_type": "markdown",
   "metadata": {},
   "source": [
    "# Part 1: Word Embeddings (50 points)\n",
    "For this first part, we're going to implement a word embedding approach that is a bit simpler than word2vec. The key idea is to look at co-occurrences between center words and context words (somewhat like in word2vec) but without any pesky learning of model parameters.\n",
    "\n",
    "If you're interested in a deeper treatment of comparing count vs. learned embeddings, take a look at: [Don’t count, predict! A systematic comparison of\n",
    "context-counting vs. context-predicting semantic vectors](\n",
    "http://www.aclweb.org/anthology/P14-1023)"
   ]
  },
  {
   "cell_type": "markdown",
   "metadata": {},
   "source": [
    "## Load the Brown Corpus\n",
    "\n",
    "The dataset for this part is the (in)famous [Brown corpus](https://en.wikipedia.org/wiki/Brown_Corpus) that is a collection of text samples from a wide range of sources, with over one million unique words. Good for us, you can find the Brown corpus in nltk. *Make sure you have already installed nltk with something like: conda install nltk*"
   ]
  },
  {
   "cell_type": "code",
   "execution_count": null,
   "metadata": {
    "collapsed": true
   },
   "outputs": [],
   "source": [
    "import nltk\n",
    "nltk.download('brown')\n",
    "nltk.download('stopwords')"
   ]
  },
  {
   "cell_type": "markdown",
   "metadata": {},
   "source": [
    "Once you have it locally, you can load the dataset into your notebook. You can access the words using brown.words():"
   ]
  },
  {
   "cell_type": "code",
   "execution_count": null,
   "metadata": {
    "collapsed": true
   },
   "outputs": [],
   "source": [
    "from nltk.corpus import brown\n",
    "# sents = brown.sents()\n",
    "# sents = list(sents)\n",
    "# sents = [[\"jack marcus done jack marcus jack jack\"]]\n",
    "print(brown.words())\n",
    "bwords = list(brown.words())"
   ]
  },
  {
   "cell_type": "markdown",
   "metadata": {},
   "source": [
    "## 1.1 Dataset Pre-processing\n",
    "OK, now we need to do some basic pre-processing. For this part you should:\n",
    "\n",
    "* Remove stopwords and punctuation.\n",
    "* Make everything lowercase.\n",
    "\n",
    "Then, count how often each word occurs. We will define the 5,000 most  frequent words as your vocabulary (V). We will define the 1,000 most frequent words as our context (C). Include a print statement below to show the top-20 words after pre-processing."
   ]
  },
  {
   "cell_type": "code",
   "execution_count": null,
   "metadata": {
    "collapsed": true
   },
   "outputs": [],
   "source": [
    "import string\n",
    "import nltk\n",
    "from nltk.corpus import stopwords\n",
    "\n",
    "words = []\n",
    "for w in bwords:\n",
    "    words.append(str(w).translate(None, string.punctuation).lower())\n",
    "words = [w for w in words if w not in stopwords.words('english') and len(w)>0]"
   ]
  },
  {
   "cell_type": "code",
   "execution_count": null,
   "metadata": {
    "collapsed": true
   },
   "outputs": [],
   "source": [
    "from collections import Counter\n",
    "bag = Counter()\n",
    "bag.update(words)\n",
    "V = [x[0] for x in bag.most_common(5000)]\n",
    "C = [x[0] for x in bag.most_common(1000)]\n",
    "print(bag.most_common(20))"
   ]
  },
  {
   "cell_type": "markdown",
   "metadata": {},
   "source": [
    "## 1.2 Building the Co-occurrence Matrix \n",
    "\n",
    "For each word in the vocabulary (w), we want to calculate how often context words from C appear in its surrounding window of size 4 (two words before and two words after).\n",
    "\n",
    "In other words, we need to define a co-occurrence matrix that has a dimension of |V|x|C| such that each cell (w,c) represents the number of times c occurs in a window around w. "
   ]
  },
  {
   "cell_type": "code",
   "execution_count": null,
   "metadata": {
    "collapsed": true
   },
   "outputs": [],
   "source": [
    "from nltk import ngrams\n",
    "import numpy as np\n",
    "\n",
    "vocab_to_index = {word:i for i, word in enumerate(V)}\n",
    "index_to_vocab = {i:word for i, word in enumerate(V)}\n",
    "context_to_index = {word:i for i, word in enumerate(C)}\n",
    "co_occurrence_matrix = np.zeros((len(V), len(C)))\n",
    "\n",
    "n = 5\n",
    "fivegrams = ngrams(words, n)\n",
    "for gram in fivegrams:\n",
    "    gram = list(gram)\n",
    "    central_word = gram[2]\n",
    "    if (central_word not in V):\n",
    "        continue;\n",
    "    for i in np.arange(5):\n",
    "        if (i == 2):\n",
    "            continue\n",
    "        if (gram[i] in C):\n",
    "            co_occurrence_matrix[vocab_to_index[central_word]][context_to_index[gram[i]]] += 1\n",
    "\n",
    "print(co_occurrence_matrix)"
   ]
  },
  {
   "cell_type": "markdown",
   "metadata": {},
   "source": [
    "## 1.3 Probability Distribution\n",
    "\n",
    "Using the co-occurrence matrix, we can compute the probability distribution Pr(c|w) of context word c around w as well as the overall probability distribution of each context word c with Pr(c).  "
   ]
  },
  {
   "cell_type": "code",
   "execution_count": null,
   "metadata": {
    "collapsed": true
   },
   "outputs": [],
   "source": [
    "com = np.array(co_occurrence_matrix)\n",
    "pcw = com/com.sum(axis=1, keepdims=True)\n",
    "pcw[np.isnan(pcw)] = 0     # Making all NaNs to 0\n",
    "# print(pcw)"
   ]
  },
  {
   "cell_type": "code",
   "execution_count": null,
   "metadata": {
    "collapsed": true
   },
   "outputs": [],
   "source": [
    "pw = [x[1] for x in bag.most_common(1000)]\n",
    "pw = [float(p)/len(words) for p in pw]\n",
    "# print pw"
   ]
  },
  {
   "cell_type": "markdown",
   "metadata": {},
   "source": [
    "## 1.4 Embedding Representation\n",
    "\n",
    "Now you can represent each vocabulary word as a |C| dimensional vector using this equation:\n",
    "\n",
    "Vector(w)= max(0, log (Pr(c|w)/Pr(c)))\n",
    "\n",
    "This is a traditional approach called *pointwise mutual information* that pre-dates word2vec by some time. "
   ]
  },
  {
   "cell_type": "code",
   "execution_count": null,
   "metadata": {
    "collapsed": true
   },
   "outputs": [],
   "source": [
    "embeddings = np.log(pcw/pw)\n",
    "b = embeddings < 0\n",
    "embeddings[b] = 0\n",
    "print(embeddings)"
   ]
  },
  {
   "cell_type": "markdown",
   "metadata": {},
   "source": [
    "## 1.5 Analysis\n",
    "\n",
    "So now we have some embeddings for each word. But are they meaningful? For this part, you should:\n",
    "\n",
    "- First, cluster the vocabulary into 100 clusters using k-means. Look over the words in each cluster, can you see any relation beween words? Discuss your observations.\n",
    "\n",
    "- Second, for the top-20 most frequent words, find the nearest neighbors using cosine distance (1- cosine similarity). Do the findings make sense? Discuss."
   ]
  },
  {
   "cell_type": "code",
   "execution_count": null,
   "metadata": {
    "collapsed": true
   },
   "outputs": [],
   "source": [
    "# k-means\n",
    "from sklearn.cluster import KMeans\n",
    "\n",
    "kmeans = KMeans(n_clusters=100).fit(embeddings)\n",
    "clusters = []\n",
    "\n",
    "def ClusterIndicesNumpy(clustNum, labels_array):\n",
    "    return np.where(labels_array == clustNum)[0]\n",
    "\n",
    "for i in range(len(kmeans.labels_)):\n",
    "    idx = ClusterIndicesNumpy(i,kmeans.labels_)\n",
    "    clusters.append([index_to_vocab[i] for i in idx])\n",
    "\n",
    "print(clusters)"
   ]
  },
  {
   "cell_type": "code",
   "execution_count": null,
   "metadata": {
    "collapsed": true
   },
   "outputs": [],
   "source": [
    "# nearest neighbors\n",
    "top_20 = [x[0] for x in bag.most_common(20)]\n",
    "# print(top_20)\n",
    "\n",
    "from sklearn.neighbors import KNeighborsClassifier\n",
    "knn = KNeighborsClassifier(n_neighbors=10,metric='cosine')\n",
    "y = np.arange(embeddings.shape[0])\n",
    "knn.fit(embeddings, y)"
   ]
  },
  {
   "cell_type": "code",
   "execution_count": null,
   "metadata": {
    "collapsed": true
   },
   "outputs": [],
   "source": [
    "nn_index = knn.kneighbors(embeddings, return_distance=False)"
   ]
  },
  {
   "cell_type": "code",
   "execution_count": null,
   "metadata": {
    "collapsed": true
   },
   "outputs": [],
   "source": [
    "print(nn_index)"
   ]
  },
  {
   "cell_type": "code",
   "execution_count": null,
   "metadata": {
    "collapsed": true
   },
   "outputs": [],
   "source": [
    "nn = []\n",
    "for n in nn_index[:20]:\n",
    "    nn.append([index_to_vocab[n[i]] for i in range(1,10)])\n",
    "for i in range(len(nn)):\n",
    "    print(V[i]+\"{}\".format(nn[i]))"
   ]
  },
  {
   "cell_type": "markdown",
   "metadata": {},
   "source": [
    "# Part 2. Collaborative Filtering (50 points)\n",
    "\n",
    "In this second part, you will implement collaborative filtering on the Netflix prize dataset -- don’t freak out, the provided sample dataset has only ~2000 items and ~28,000 users.\n",
    "\n",
    "As background, read the paper [Empirical Analysis of Predictive Algorithms for Collaborative Filtering](https://arxiv.org/pdf/1301.7363.pdf) up to Section 2.1. Of course you can read further if you are interested, and you can also refer to the course slides for collaborative filtering."
   ]
  },
  {
   "cell_type": "markdown",
   "metadata": {},
   "source": [
    "## 2.1 Load Netflix Data\n",
    "\n",
    "The dataset is subset of movie ratings data from the Netflix Prize Challenge. Download the dataset from Piazza. It contains a train set, test set, movie file, and README file. The last two files are original ones from the Netflix Prize, however; in this homework you will deal with train and test files which both are subsets of the Netflix training data. Each of train and test files has lines having this format: MovieID,UserID,Rating.\n",
    "\n",
    "Your job is to predict a rating in the test set using those provided in the training set."
   ]
  },
  {
   "cell_type": "code",
   "execution_count": 2,
   "metadata": {},
   "outputs": [
    {
     "name": "stdout",
     "output_type": "stream",
     "text": [
      "Number of Movies in train set = 1821\n",
      "Number of Users in train set = 28978\n",
      "Number of Ratings in train set = 5\n"
     ]
    }
   ],
   "source": [
    "# load the data, then print out the number of ratings, \n",
    "# movies and users in each of train and test sets.\n",
    "# load the data, then print out the number of ratings, \n",
    "# movies and users in each of train and test sets.\n",
    "\n",
    "import pandas as pd\n",
    "train_df = pd.read_csv('netflix-dataset/TrainingRatings.txt', header = None, usecols=[0,1,2])\n",
    "# print(train_df[:10])\n",
    "train_df.columns = ['mid','uid','r']\n",
    "print(\"Number of Movies in train set = \" + str(train_df.loc[:,'mid'].unique().size))\n",
    "print(\"Number of Users in train set = \" + str(train_df.loc[:,'uid'].unique().size))\n",
    "print(\"Number of Ratings in train set = \" + str(train_df.loc[:,'r'].unique().size))"
   ]
  },
  {
   "cell_type": "code",
   "execution_count": 3,
   "metadata": {},
   "outputs": [
    {
     "name": "stdout",
     "output_type": "stream",
     "text": [
      "Number of Movies in test set = 1701\n",
      "Number of Users in test set = 27555\n",
      "Number of Ratings in test set = 5\n"
     ]
    }
   ],
   "source": [
    "test_df = pd.read_csv('netflix-dataset/TestingRatings.txt', header = None)\n",
    "# print(test_df[:10])\n",
    "test_df.columns = ['mid','uid','r']\n",
    "print(\"Number of Movies in test set = \" + str(test_df.loc[:,'mid'].unique().size))\n",
    "print(\"Number of Users in test set = \" + str(test_df.loc[:,'uid'].unique().size))\n",
    "print(\"Number of Ratings in test set = \" + str(test_df.loc[:,'r'].unique().size))"
   ]
  },
  {
   "cell_type": "markdown",
   "metadata": {},
   "source": [
    "## 2.2 Implement CF\n",
    "\n",
    "In this part, you will implement the basic collaborative filtering algorithm described in Section 2.1 of the paper -- that is, focus only on Equations 1 and 2 (where Equation 2 is just the Pearson correlation). You should consider the first 5,000 users with their associated items in the test set. \n",
    "\n",
    "Note that you should test the algorithm for a small set of users e.g., 10 users first and then run for 5,000 users. It may take long to run but you won't have memory issues. \n",
    "\n",
    "Set k to 0.1. "
   ]
  },
  {
   "cell_type": "code",
   "execution_count": 147,
   "metadata": {
    "collapsed": true
   },
   "outputs": [],
   "source": [
    "import numpy as np"
   ]
  },
  {
   "cell_type": "code",
   "execution_count": 158,
   "metadata": {
    "collapsed": true
   },
   "outputs": [],
   "source": [
    "class Movie:\n",
    "    def __init__(self):\n",
    "        self.avg_rating = None\n",
    "        self.ratings = dict({})\n",
    "\n",
    "class User:\n",
    "    def __init__(self):\n",
    "        self.avg_rating = None\n",
    "        self.ratings = dict({})    \n",
    "\n",
    "user_data = {}\n",
    "movie_data = {}"
   ]
  },
  {
   "cell_type": "code",
   "execution_count": 159,
   "metadata": {},
   "outputs": [],
   "source": [
    "train_file = 'netflix-dataset/TrainingRatings.txt'\n",
    "\n",
    "with open(train_file, 'r') as f:\n",
    "    lines = f.readlines()\n",
    "    for line in lines:\n",
    "        a = line.rstrip('\\n').split(',')\n",
    "        movie_id = a[0]\n",
    "        user_id = a[1]\n",
    "        rating = float(a[2])\n",
    "\n",
    "        if user_data.get(user_id): \n",
    "            user_data[user_id].ratings[movie_id] = rating\n",
    "        else: \n",
    "            user_data[user_id] = User()\n",
    "            user_data[user_id].ratings[movie_id] = rating\n",
    "\n",
    "        if movie_data.get(movie_id): \n",
    "            movie_data[movie_id].ratings[user_id] = rating\n",
    "        else: \n",
    "            movie_data[movie_id] = Movie()\n",
    "            movie_data[movie_id].ratings[user_id] = rating"
   ]
  },
  {
   "cell_type": "code",
   "execution_count": 160,
   "metadata": {},
   "outputs": [],
   "source": [
    "for user_id, val in user_data.items():\n",
    "    user_data[user_id].avg_rating = np.mean(np.array(val.ratings.values()))\n",
    "    \n",
    "for movie_id, val in movie_data.items():\n",
    "    movie_data[movie_id].avg_rating = np.mean(np.array(val.ratings.values()))"
   ]
  },
  {
   "cell_type": "code",
   "execution_count": 162,
   "metadata": {},
   "outputs": [],
   "source": [
    "test_file = 'netflix-dataset/TestingRatings.txt'\n",
    "predicted = []\n",
    "true = []\n",
    "k = 0.001\n",
    "i = 0\n",
    "\n",
    "with open(test_file, 'r') as f:\n",
    "    lines = f.readlines()\n",
    "    n = 0 \n",
    "    mae_sum = 0.0 \n",
    "    rmse_sum = 0.0 \n",
    "    weights = {} \n",
    "\n",
    "    for line in lines[:5000]:\n",
    "        print(i)\n",
    "        i += 1         \n",
    "        info = line.rstrip('\\n').split(',')\n",
    "        movie_id = info[0]\n",
    "        user_id = info[1]\n",
    "        rating = float(info[2])\n",
    "        if user_id in user_data:\n",
    "            curr_user = user_data[user_id] \n",
    "            avg_rating = curr_user.avg_rating \n",
    "            sum = 0.0 \n",
    "            for new_user_id, train_movie in user_data.items(): \n",
    "                if (new_user_id != user_id and movie_id in train_movie.ratings):\n",
    "                    weight = 0 \n",
    "                    if (user_id, new_user_id) not in weights and (new_user_id, user_id) not in weights:\n",
    "                        num = 0\n",
    "                        d1 = 0\n",
    "                        d2 = 0\n",
    "                        for m, rating in train_movie.ratings.items():\n",
    "                            if m != movie_id and m in curr_user.ratings:\n",
    "                                num += (curr_user.ratings[m]-curr_user.avg_rating)*(rating-train_movie.avg_rating) \n",
    "                        for m, rating in train_movie.ratings.items():\n",
    "                            if m != movie_id and m in curr_user.ratings:\n",
    "                                d1 += pow((curr_user.ratings[m]-curr_user.avg_rating),2)\n",
    "                                d2 += pow((rating-train_movie.avg_rating),2)\n",
    "                        if (d1 == 0 or d2 == 0):\n",
    "                            continue\n",
    "                        weight = num/pow((d1*d2),0.5)\n",
    "                        weights[(user_id, new_user_id)] = weight\n",
    "                    else:\n",
    "                        if (user_id, new_user_id) in weights:\n",
    "                            weight = weights[(user_id, new_user_id)]\n",
    "                        elif (new_user_id, user_id) in weights:\n",
    "                            weight = weights[(new_user_id, user_id)]\n",
    "                    sum += weight * (train_movie.ratings[movie_id] - train_movie.avg_rating)\n",
    "            predicted_rating = avg_rating + k * sum\n",
    "#             print(\"sum = \" + str(sum))\n",
    "#             print(\"avg_rating = \" + str(avg_rating))\n",
    "#             print(\"predicted_rating = \" + str(predicted_rating))\n",
    "\n",
    "            if predicted_rating < 1.0:\n",
    "                predicted_rating = 1.0\n",
    "            elif predicted_rating > 5.0:\n",
    "                predicted_rating = 5.0\n",
    "            else:\n",
    "                predicted_rating = round(predicted_rating)\n",
    "\n",
    "            n += 1\n",
    "\n",
    "            predicted.append(predicted_rating)\n",
    "            true.append(rating)\n",
    "\n",
    "    print(predicted)\n",
    "    print(true)"
   ]
  },
  {
   "cell_type": "markdown",
   "metadata": {},
   "source": [
    "## 2.3 Evaluation \n",
    "\n",
    "You should evaluate your predictions using Mean Absolute Error and Root Mean Squared Error. "
   ]
  },
  {
   "cell_type": "code",
   "execution_count": 130,
   "metadata": {},
   "outputs": [
    {
     "name": "stdout",
     "output_type": "stream",
     "text": [
      "Mean absolute error = 0.77\n"
     ]
    }
   ],
   "source": [
    "# Mean Absolute Error\n",
    "from sklearn.metrics import mean_absolute_error\n",
    "print(\"Mean absolute error = \" + str(mean_absolute_error(true, predicted)))"
   ]
  },
  {
   "cell_type": "code",
   "execution_count": 131,
   "metadata": {},
   "outputs": [
    {
     "name": "stdout",
     "output_type": "stream",
     "text": [
      "Root mean square error = 1.1044\n"
     ]
    }
   ],
   "source": [
    "# Root Mean Squared Error\n",
    "from sklearn.metrics import mean_squared_error\n",
    "print(\"Root mean square error = \" + str(mean_squared_error(true, predicted)))"
   ]
  },
  {
   "cell_type": "markdown",
   "metadata": {},
   "source": [
    "## 2.4 Extensions\n",
    "\n",
    "Given your results in the previous part, can you do better? For this last part you should report on your best attempt at improving MAE and RMSE. Provide code, results, plus a brief discussion on your approach."
   ]
  },
  {
   "cell_type": "code",
   "execution_count": null,
   "metadata": {
    "collapsed": true
   },
   "outputs": [],
   "source": []
  },
  {
   "cell_type": "markdown",
   "metadata": {},
   "source": [
    "*Insert discussion here*"
   ]
  }
 ],
 "metadata": {
  "kernelspec": {
   "display_name": "Python 2",
   "language": "python",
   "name": "python2"
  },
  "language_info": {
   "codemirror_mode": {
    "name": "ipython",
    "version": 2
   },
   "file_extension": ".py",
   "mimetype": "text/x-python",
   "name": "python",
   "nbconvert_exporter": "python",
   "pygments_lexer": "ipython2",
   "version": "2.7.14"
  }
 },
 "nbformat": 4,
 "nbformat_minor": 2
}
